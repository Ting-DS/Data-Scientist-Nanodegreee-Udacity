{
 "cells": [
  {
   "cell_type": "markdown",
   "id": "b2673689",
   "metadata": {},
   "source": [
    "# Sparkify User Churn Prediction - Spark\n",
    "\n",
    "This project intends to use Sparkify user data to identify at-risk users who will likely churn. A **small subset(128MB)** of the **full data (12GB)** is used for initial analysis, feature engineering and model development. Once the features and models are selected, the script can be deployed to Spark to build the model on the full dataset."
   ]
  },
  {
   "cell_type": "markdown",
   "id": "c8950dd3",
   "metadata": {},
   "source": [
    "### Import libraries from PySpark"
   ]
  },
  {
   "cell_type": "code",
   "execution_count": 2,
   "id": "d3fdb45b",
   "metadata": {},
   "outputs": [],
   "source": [
    "# Please run below if you haven't import \"pyspark\" module on local environment:\n",
    "# !pip install pyspark\n",
    "\n",
    "# Spark SQL\n",
    "from pyspark.sql import SparkSession\n",
    "import pyspark.sql.functions as F\n",
    "from pyspark.sql.functions import (avg, col, concat, desc, lit, min, max, \n",
    "                                    split, udf, countDistinct, sum, count,\n",
    "                                        isnan, when, sort_array, asc)\n",
    "from pyspark.sql.window import Window\n",
    "from pyspark.sql.types import IntegerType, DoubleType\n",
    "\n",
    "# Spark ML\n",
    "from pyspark.ml import Pipeline\n",
    "from pyspark.ml.feature import MinMaxScaler, OneHotEncoder, StringIndexer, VectorAssembler, StandardScaler\n",
    "from pyspark.ml.classification import LogisticRegression, LinearSVC, RandomForestClassifier, GBTClassifier\n",
    "from pyspark.ml.tuning import CrossValidator, ParamGridBuilder\n",
    "from pyspark.ml.evaluation import MulticlassClassificationEvaluator\n",
    "from pyspark.mllib.evaluation import MulticlassMetrics\n",
    "\n",
    "# Python\n",
    "import datetime\n",
    "import numpy as np\n",
    "import pandas as pd\n",
    "%matplotlib inline\n",
    "import matplotlib.pyplot as plt\n",
    "import matplotlib.dates as mdates\n",
    "import seaborn as sns\n",
    "\n",
    "import warnings\n",
    "warnings.filterwarnings(\"ignore\")"
   ]
  },
  {
   "cell_type": "markdown",
   "id": "6ef5f79d",
   "metadata": {},
   "source": [
    "### Create a Spark session"
   ]
  },
  {
   "cell_type": "code",
   "execution_count": 3,
   "id": "b77e077e",
   "metadata": {
    "scrolled": false
   },
   "outputs": [
    {
     "name": "stderr",
     "output_type": "stream",
     "text": [
      "Setting default log level to \"WARN\".\n",
      "To adjust logging level use sc.setLogLevel(newLevel). For SparkR, use setLogLevel(newLevel).\n",
      "23/10/14 19:46:04 WARN NativeCodeLoader: Unable to load native-hadoop library for your platform... using builtin-java classes where applicable\n"
     ]
    }
   ],
   "source": [
    "# Download java first# Create a SparkSession with the application name \"sparkify\".\n",
    "# SparkSession is the entry point for interacting with the Spark cluster.\n",
    "# It requires Java Runtime Environment (JRE) to run, as Spark is built using Scala and Java.\n",
    "spark = SparkSession \\\n",
    ".builder \\\n",
    ".appName(\"sparkify\") \\\n",
    ".getOrCreate() "
   ]
  },
  {
   "cell_type": "markdown",
   "id": "9f1b19ac",
   "metadata": {},
   "source": [
    "### Load raw data"
   ]
  },
  {
   "cell_type": "code",
   "execution_count": 4,
   "id": "cd7438f4",
   "metadata": {},
   "outputs": [
    {
     "name": "stderr",
     "output_type": "stream",
     "text": [
      "                                                                                \r"
     ]
    }
   ],
   "source": [
    "df = spark.read.json('/Users/tinglu/Desktop/spark/sparkify/data/mini_sparkify_event_data.json')"
   ]
  },
  {
   "cell_type": "code",
   "execution_count": 5,
   "id": "d1fafa26",
   "metadata": {},
   "outputs": [
    {
     "data": {
      "text/plain": [
       "Row(artist='Martha Tilston', auth='Logged In', firstName='Colin', gender='M', itemInSession=50, lastName='Freeman', length=277.89016, level='paid', location='Bakersfield, CA', method='PUT', page='NextSong', registration=1538173362000, sessionId=29, song='Rockpools', status=200, ts=1538352117000, userAgent='Mozilla/5.0 (Windows NT 6.1; WOW64; rv:31.0) Gecko/20100101 Firefox/31.0', userId='30')"
      ]
     },
     "execution_count": 5,
     "metadata": {},
     "output_type": "execute_result"
    }
   ],
   "source": [
    "df.head()"
   ]
  },
  {
   "cell_type": "code",
   "execution_count": 6,
   "id": "d11c3653",
   "metadata": {},
   "outputs": [
    {
     "name": "stderr",
     "output_type": "stream",
     "text": [
      "\r\n",
      "[Stage 2:>                                                        (0 + 10) / 10]\r"
     ]
    },
    {
     "name": "stdout",
     "output_type": "stream",
     "text": [
      "Total activity records: 286500\n",
      "Total columns: 18\n"
     ]
    },
    {
     "name": "stderr",
     "output_type": "stream",
     "text": [
      "\r\n",
      "                                                                                \r"
     ]
    }
   ],
   "source": [
    "print('Total activity records:', df.count())\n",
    "print('Total columns:', len(df.columns))"
   ]
  },
  {
   "cell_type": "code",
   "execution_count": 7,
   "id": "0e534781",
   "metadata": {},
   "outputs": [
    {
     "name": "stdout",
     "output_type": "stream",
     "text": [
      "root\n",
      " |-- artist: string (nullable = true)\n",
      " |-- auth: string (nullable = true)\n",
      " |-- firstName: string (nullable = true)\n",
      " |-- gender: string (nullable = true)\n",
      " |-- itemInSession: long (nullable = true)\n",
      " |-- lastName: string (nullable = true)\n",
      " |-- length: double (nullable = true)\n",
      " |-- level: string (nullable = true)\n",
      " |-- location: string (nullable = true)\n",
      " |-- method: string (nullable = true)\n",
      " |-- page: string (nullable = true)\n",
      " |-- registration: long (nullable = true)\n",
      " |-- sessionId: long (nullable = true)\n",
      " |-- song: string (nullable = true)\n",
      " |-- status: long (nullable = true)\n",
      " |-- ts: long (nullable = true)\n",
      " |-- userAgent: string (nullable = true)\n",
      " |-- userId: string (nullable = true)\n",
      "\n"
     ]
    }
   ],
   "source": [
    "df.printSchema()"
   ]
  },
  {
   "cell_type": "markdown",
   "id": "1e8bde9c",
   "metadata": {},
   "source": [
    "### Description for each column:\n",
    "- **Artist**: Composer or artist of the song.\n",
    "- **Auth**: Login status of the user.\n",
    "- **firstName**: First name of the user.\n",
    "- **gender**: Gender of the user.\n",
    "- **ItemInSession**: Operation sequence number of this session, ordered from small to large based on time.\n",
    "- **lastName**: Surname or last name of the user.\n",
    "- **length**: Length of the song in seconds.\n",
    "- **Level**: Indicates whether the user is a paid user.\n",
    "- **location**: User's location.\n",
    "- **method**: HTTP method used to access web pages (e.g., PUT or GET).\n",
    "- **page**: Type of page or action being performed.\n",
    "- **registration**: Timestamp representing the user's registration point in time.\n",
    "- **sessionId**: Session ID used to identify a single login session.\n",
    "- **song**: Name of the song being played or interacted with.\n",
    "- **status**: HTTP page return code (e.g., 200, 307, 404).\n",
    "- **ts**: Timestamp of the log entry.\n",
    "- **UserAgent**: Information about the client's browser or user agent.\n",
    "- **UserId**: Unique identifier for the user.\n",
    "\n",
    "\n"
   ]
  },
  {
   "cell_type": "code",
   "execution_count": 8,
   "id": "98f087b1",
   "metadata": {
    "scrolled": true
   },
   "outputs": [
    {
     "name": "stderr",
     "output_type": "stream",
     "text": [
      "\r\n",
      "[Stage 5:>                                                        (0 + 10) / 10]\r"
     ]
    },
    {
     "name": "stdout",
     "output_type": "stream",
     "text": [
      "+----------+-------------+\n",
      "|      auth|count(userId)|\n",
      "+----------+-------------+\n",
      "|Logged Out|            1|\n",
      "| Cancelled|           52|\n",
      "|     Guest|            1|\n",
      "| Logged In|          225|\n",
      "+----------+-------------+\n",
      "\n"
     ]
    },
    {
     "name": "stderr",
     "output_type": "stream",
     "text": [
      "\r\n",
      "                                                                                \r"
     ]
    }
   ],
   "source": [
    "# Summarize `auth` (Login status of the user)\n",
    "df.groupby('auth').agg(F.countDistinct('userId')).show()"
   ]
  },
  {
   "cell_type": "code",
   "execution_count": 9,
   "id": "8c4f2287",
   "metadata": {},
   "outputs": [],
   "source": [
    "# Filter out Guest and Logged Out to exclude guests\n",
    "df_clean = df.filter((col('auth') == 'Logged In') | (col('auth') == 'Cancelled'))"
   ]
  },
  {
   "cell_type": "code",
   "execution_count": 10,
   "id": "fae2dda6",
   "metadata": {},
   "outputs": [],
   "source": [
    "# Exclude null user_id\n",
    "df_clean=df_clean.filter(df['userId']!='')"
   ]
  },
  {
   "cell_type": "code",
   "execution_count": 11,
   "id": "4e946e5a",
   "metadata": {},
   "outputs": [
    {
     "name": "stderr",
     "output_type": "stream",
     "text": [
      "\r\n",
      "[Stage 11:>                                                       (0 + 10) / 10]\r\n",
      "\r\n",
      "[Stage 11:=====>                                                   (1 + 9) / 10]\r"
     ]
    },
    {
     "name": "stdout",
     "output_type": "stream",
     "text": [
      "+---------+-------------+\n",
      "|     auth|count(userId)|\n",
      "+---------+-------------+\n",
      "|Cancelled|           52|\n",
      "|Logged In|          225|\n",
      "+---------+-------------+\n",
      "\n"
     ]
    },
    {
     "name": "stderr",
     "output_type": "stream",
     "text": [
      "\r\n",
      "                                                                                \r"
     ]
    }
   ],
   "source": [
    "df_clean.groupby('auth').agg(F.countDistinct('userId')).show()"
   ]
  },
  {
   "cell_type": "markdown",
   "id": "6ec728f5",
   "metadata": {},
   "source": [
    "### Checking missing"
   ]
  },
  {
   "cell_type": "code",
   "execution_count": 12,
   "id": "81d4ab1c",
   "metadata": {},
   "outputs": [
    {
     "name": "stderr",
     "output_type": "stream",
     "text": [
      "                                                                                \r"
     ]
    },
    {
     "name": "stdout",
     "output_type": "stream",
     "text": [
      "Missing values count and percentage per column:\n",
      "Column artist: Missing Count: 50046, Missing Percentage: 17.99%\n",
      "Column auth: Missing Count: 0, Missing Percentage: 0.00%\n",
      "Column firstName: Missing Count: 0, Missing Percentage: 0.00%\n",
      "Column gender: Missing Count: 0, Missing Percentage: 0.00%\n",
      "Column itemInSession: Missing Count: 0, Missing Percentage: 0.00%\n",
      "Column lastName: Missing Count: 0, Missing Percentage: 0.00%\n",
      "Column length: Missing Count: 50046, Missing Percentage: 17.99%\n",
      "Column level: Missing Count: 0, Missing Percentage: 0.00%\n",
      "Column location: Missing Count: 0, Missing Percentage: 0.00%\n",
      "Column method: Missing Count: 0, Missing Percentage: 0.00%\n",
      "Column page: Missing Count: 0, Missing Percentage: 0.00%\n",
      "Column registration: Missing Count: 0, Missing Percentage: 0.00%\n",
      "Column sessionId: Missing Count: 0, Missing Percentage: 0.00%\n",
      "Column song: Missing Count: 50046, Missing Percentage: 17.99%\n",
      "Column status: Missing Count: 0, Missing Percentage: 0.00%\n",
      "Column ts: Missing Count: 0, Missing Percentage: 0.00%\n",
      "Column userAgent: Missing Count: 0, Missing Percentage: 0.00%\n",
      "Column userId: Missing Count: 0, Missing Percentage: 0.00%\n"
     ]
    }
   ],
   "source": [
    "# check missing or invalid data\n",
    "missing_info = []\n",
    "\n",
    "for column in df_clean.columns:\n",
    "    missing_count = df_clean.filter(col(column).isNull() | isnan(col(column)) | (col(column) == \"\")).count()\n",
    "    total_count = df_clean.count()\n",
    "    missing_percentage = (missing_count / total_count) * 100\n",
    "    missing_info.append((column, missing_count, missing_percentage))\n",
    "\n",
    "print('Missing values count and percentage per column:')\n",
    "for column, count, percentage in missing_info:\n",
    "    print(f'Column {column}: Missing Count: {count}, Missing Percentage: {percentage:.2f}%')"
   ]
  },
  {
   "cell_type": "markdown",
   "id": "864ee069",
   "metadata": {},
   "source": [
    "0% missing data (`UserId` and `SessionId`)\n",
    "\n",
    "Please be aware that the 'artist' and 'songs' columns have more missing values, accounting for about 18% of rows. This is due to the nature of the records, which involve actions such as logging into the service and accessing the homepage."
   ]
  },
  {
   "cell_type": "markdown",
   "id": "461382c6",
   "metadata": {},
   "source": [
    "## Exploratory Data Analysis\n",
    "### Define Churn - `auth`\n",
    "Define churn based on the `auth` (Login status of the user). During the data cleaning process, we noticed that the \"Cancelled\" status is likely related to customer churn. In the small dataset, the overall churn probability is 23%."
   ]
  },
  {
   "cell_type": "code",
   "execution_count": 13,
   "id": "95a7aaef",
   "metadata": {},
   "outputs": [],
   "source": [
    "# Generate churn 1/0 as binary indicator `cancel` 1/0\n",
    "cancel = udf(lambda auth: 1 if auth == 'Cancelled' else 0, IntegerType())\n",
    "df_clean = df_clean.withColumn('cancel', cancel('auth'))"
   ]
  },
  {
   "cell_type": "markdown",
   "id": "b0821413",
   "metadata": {},
   "source": [
    "### Investigate user activities -  `page`"
   ]
  },
  {
   "cell_type": "code",
   "execution_count": 14,
   "id": "5cd53fe1",
   "metadata": {},
   "outputs": [
    {
     "data": {
      "text/plain": [
       "Text(0.5, 1.0, 'Page Counts')"
      ]
     },
     "execution_count": 14,
     "metadata": {},
     "output_type": "execute_result"
    },
    {
     "data": {
      "image/png": "[encoded data removed]",
      "text/plain": [
       "<Figure size 720x432 with 1 Axes>"
      ]
     },
     "metadata": {
      "needs_background": "light"
     },
     "output_type": "display_data"
    }
   ],
   "source": [
    "# All user activity types\n",
    "all_pages = df_clean.select(\"page\").toPandas()\n",
    "\n",
    "plt.figure(figsize=(10, 6))\n",
    "all_pages['page'].value_counts().plot(kind='bar')\n",
    "plt.xlabel('Page')\n",
    "plt.ylabel('Count')\n",
    "plt.title('Page Counts')"
   ]
  },
  {
   "cell_type": "markdown",
   "id": "4f3276f4",
   "metadata": {},
   "source": [
    "Some user activities are not initiated by users themselves, making it challenging to represent their preferences or habits. Establishing a relationship with the churn rate for these activities is difficult."
   ]
  },
  {
   "cell_type": "code",
   "execution_count": 15,
   "id": "1d184414",
   "metadata": {},
   "outputs": [
    {
     "name": "stdout",
     "output_type": "stream",
     "text": [
      "+--------------------+------+------+\n",
      "|                page|method| count|\n",
      "+--------------------+------+------+\n",
      "|               About|   GET|   495|\n",
      "|            Settings|   GET|  1514|\n",
      "|                Help|   GET|  1454|\n",
      "|           Downgrade|   GET|  2055|\n",
      "|             Upgrade|   GET|   499|\n",
      "|               Error|   GET|   252|\n",
      "|Cancellation Conf...|   GET|    52|\n",
      "|                Home|   GET| 10082|\n",
      "|         Roll Advert|   GET|  3933|\n",
      "|          Add Friend|   PUT|  4277|\n",
      "|              Logout|   PUT|  3226|\n",
      "|      Submit Upgrade|   PUT|   159|\n",
      "|     Add to Playlist|   PUT|  6526|\n",
      "|              Cancel|   PUT|    52|\n",
      "|    Submit Downgrade|   PUT|    63|\n",
      "|       Save Settings|   PUT|   310|\n",
      "|         Thumbs Down|   PUT|  2546|\n",
      "|            NextSong|   PUT|228108|\n",
      "|           Thumbs Up|   PUT| 12551|\n",
      "+--------------------+------+------+\n",
      "\n"
     ]
    }
   ],
   "source": [
    "pages = df_clean.groupby('page','method').count().sort('method')\n",
    "pages.show()"
   ]
  },
  {
   "cell_type": "markdown",
   "id": "c8f28a43",
   "metadata": {},
   "source": [
    "The `page` variable shows the interaction information between the user and the spackify music app, where `NextSong` can be used to calculate the number of songs the user listens to, thumbs up, thumbs down and other behaviors have obvious emotional colors, which are closely related to the user churn rate intuitively."
   ]
  },
  {
   "cell_type": "code",
   "execution_count": 16,
   "id": "900309ef",
   "metadata": {},
   "outputs": [
    {
     "data": {
      "image/png": "[encoded data removed]",
      "text/plain": [
       "<Figure size 432x288 with 1 Axes>"
      ]
     },
     "metadata": {
      "needs_background": "light"
     },
     "output_type": "display_data"
    }
   ],
   "source": [
    "# Use 'PUT' to get user proactive activities\n",
    "pages_df= pages.toPandas()\n",
    "pro_pages_df = pages_df.loc[(pages_df['method'] == 'PUT') & (pages_df['page'] != 'NextSong')]\n",
    "\n",
    "activity = pro_pages_df['page']\n",
    "count = pro_pages_df['count']\n",
    "\n",
    "plt.barh(activity, count)\n",
    "plt.ylabel('Page')\n",
    "plt.xlabel('Total Activities')\n",
    "plt.title('Proactive User Activity Summary')\n",
    "plt.show()"
   ]
  },
  {
   "cell_type": "markdown",
   "id": "e4175211",
   "metadata": {},
   "source": [
    "### Investigate how user downgrade (paid to free)"
   ]
  },
  {
   "cell_type": "code",
   "execution_count": 17,
   "id": "d1b6ad3f",
   "metadata": {},
   "outputs": [
    {
     "name": "stderr",
     "output_type": "stream",
     "text": [
      "\r\n",
      "[Stage 137:================>                                       (3 + 7) / 10]\r"
     ]
    },
    {
     "name": "stdout",
     "output_type": "stream",
     "text": [
      "+------+-----+---------+----------------+-------------------+\n",
      "|userId|level|sessionId|            page|          timestamp|\n",
      "+------+-----+---------+----------------+-------------------+\n",
      "|   131| free|     2281|            Home|2018-11-29 22:21:23|\n",
      "|   131| free|     2155|      Add Friend|2018-11-24 23:33:37|\n",
      "|   131| free|     2155|     Thumbs Down|2018-11-24 22:40:05|\n",
      "|   131| free|     2155|            Home|2018-11-24 22:00:42|\n",
      "|   131| free|     2155|          Logout|2018-11-24 21:55:35|\n",
      "|   131| free|     2155|     Roll Advert|2018-11-24 21:48:26|\n",
      "|   131| free|     2155|       Thumbs Up|2018-11-24 21:09:51|\n",
      "|   131| free|     2155|           About|2018-11-24 20:53:42|\n",
      "|   131| free|     2155| Add to Playlist|2018-11-24 20:33:34|\n",
      "|   131| free|     2155|        NextSong|2018-11-24 20:32:31|\n",
      "|   131| free|     2094|        NextSong|2018-11-21 06:31:30|\n",
      "|   131| free|     2094|            Home|2018-11-21 06:31:26|\n",
      "|   131| free|     2041|     Roll Advert|2018-11-19 19:15:16|\n",
      "|   131| free|     2041|        NextSong|2018-11-19 18:54:39|\n",
      "|   131| free|     2041|            Home|2018-11-19 18:52:00|\n",
      "|   131| paid|     2041|Submit Downgrade|2018-11-19 18:51:37|\n",
      "|   131| paid|     2041|      Add Friend|2018-11-19 18:19:54|\n",
      "|   131| paid|     2041|            Home|2018-11-19 17:16:17|\n",
      "|   131| paid|     2041|            Help|2018-11-19 16:38:31|\n",
      "|   131| paid|     2041|     Thumbs Down|2018-11-19 15:21:14|\n",
      "|   131| paid|     2041|       Thumbs Up|2018-11-19 14:18:11|\n",
      "|   131| paid|     2041|       Downgrade|2018-11-19 14:01:29|\n",
      "|   131| paid|     2041| Add to Playlist|2018-11-19 13:53:24|\n",
      "|   131| paid|     2041|        Settings|2018-11-19 13:45:15|\n",
      "|   131| paid|     2041|        NextSong|2018-11-19 13:12:17|\n",
      "+------+-----+---------+----------------+-------------------+\n",
      "only showing top 25 rows\n",
      "\n"
     ]
    },
    {
     "name": "stderr",
     "output_type": "stream",
     "text": [
      "\r\n",
      "                                                                                \r"
     ]
    }
   ],
   "source": [
    "# \"Paid to free\" happens right after `submit downgrade`\n",
    "df_clean.filter(col('userId') == '131')\\\n",
    "    .groupby(['userId','level', 'sessionId', 'page'])\\\n",
    "    .agg(min(F.from_unixtime(col('ts')/lit(1000))).alias('timestamp'))\\\n",
    "    .sort(col('timestamp').desc())\\\n",
    "    .show(25)"
   ]
  },
  {
   "cell_type": "markdown",
   "id": "622e206a",
   "metadata": {},
   "source": [
    "### Investigate user location\n",
    "There are too many categories for the \"location\" feature, making it challenging to organize. It might be worth considering temporarily dropping this feature."
   ]
  },
  {
   "cell_type": "code",
   "execution_count": 18,
   "id": "6e3362dd",
   "metadata": {},
   "outputs": [
    {
     "data": {
      "image/png": "[encoded data removed]",
      "text/plain": [
       "<Figure size 432x288 with 1 Axes>"
      ]
     },
     "metadata": {
      "needs_background": "light"
     },
     "output_type": "display_data"
    }
   ],
   "source": [
    "df_loc = df_clean.groupby('location').agg(countDistinct('userId')).toPandas()\n",
    "df_loc = df_loc.sort_values('count(userId)', ascending = False).iloc[:30,:]\n",
    "\n",
    "plt.bar(df_loc['location'], df_loc['count(userId)'])\n",
    "plt.ylabel('Distinct User')\n",
    "plt.xlabel('Location')\n",
    "plt.title('User Location Summary (Top 30)')\n",
    "plt.xticks(rotation='vertical')\n",
    "\n",
    "plt.show()"
   ]
  },
  {
   "cell_type": "markdown",
   "id": "3a357032",
   "metadata": {},
   "source": [
    "### Investigate user activity over time"
   ]
  },
  {
   "cell_type": "code",
   "execution_count": 19,
   "id": "3ad3a903",
   "metadata": {},
   "outputs": [
    {
     "name": "stderr",
     "output_type": "stream",
     "text": [
      "                                                                                \r"
     ]
    },
    {
     "data": {
      "text/html": [
       "<div>\n",
       "<style scoped>\n",
       "    .dataframe tbody tr th:only-of-type {\n",
       "        vertical-align: middle;\n",
       "    }\n",
       "\n",
       "    .dataframe tbody tr th {\n",
       "        vertical-align: top;\n",
       "    }\n",
       "\n",
       "    .dataframe thead th {\n",
       "        text-align: right;\n",
       "    }\n",
       "</style>\n",
       "<table border=\"1\" class=\"dataframe\">\n",
       "  <thead>\n",
       "    <tr style=\"text-align: right;\">\n",
       "      <th></th>\n",
       "      <th>date</th>\n",
       "      <th>level</th>\n",
       "      <th>count(sessionId)</th>\n",
       "      <th>count(userId)</th>\n",
       "      <th>count(song)</th>\n",
       "    </tr>\n",
       "  </thead>\n",
       "  <tbody>\n",
       "    <tr>\n",
       "      <th>0</th>\n",
       "      <td>2018-10-27</td>\n",
       "      <td>free</td>\n",
       "      <td>434</td>\n",
       "      <td>12</td>\n",
       "      <td>344</td>\n",
       "    </tr>\n",
       "    <tr>\n",
       "      <th>1</th>\n",
       "      <td>2018-11-25</td>\n",
       "      <td>paid</td>\n",
       "      <td>2449</td>\n",
       "      <td>26</td>\n",
       "      <td>2032</td>\n",
       "    </tr>\n",
       "    <tr>\n",
       "      <th>2</th>\n",
       "      <td>2018-10-24</td>\n",
       "      <td>paid</td>\n",
       "      <td>4436</td>\n",
       "      <td>43</td>\n",
       "      <td>3735</td>\n",
       "    </tr>\n",
       "    <tr>\n",
       "      <th>3</th>\n",
       "      <td>2018-10-20</td>\n",
       "      <td>paid</td>\n",
       "      <td>4678</td>\n",
       "      <td>31</td>\n",
       "      <td>3912</td>\n",
       "    </tr>\n",
       "    <tr>\n",
       "      <th>4</th>\n",
       "      <td>2018-10-20</td>\n",
       "      <td>free</td>\n",
       "      <td>667</td>\n",
       "      <td>15</td>\n",
       "      <td>497</td>\n",
       "    </tr>\n",
       "  </tbody>\n",
       "</table>\n",
       "</div>"
      ],
      "text/plain": [
       "         date level  count(sessionId)  count(userId)  count(song)\n",
       "0  2018-10-27  free               434             12          344\n",
       "1  2018-11-25  paid              2449             26         2032\n",
       "2  2018-10-24  paid              4436             43         3735\n",
       "3  2018-10-20  paid              4678             31         3912\n",
       "4  2018-10-20  free               667             15          497"
      ]
     },
     "execution_count": 19,
     "metadata": {},
     "output_type": "execute_result"
    }
   ],
   "source": [
    "# Convert ts to date and get user activity summary over time\n",
    "df_clean = df_clean.withColumn(\"date\", F.to_date(F.from_unixtime(col('ts')/lit(1000))))\n",
    "\n",
    "time = df_clean.select(['date','sessionId','userId','level','song']\\\n",
    "                      ).groupby(['date','level']).agg(F.count(col('sessionId')), F.countDistinct(col('userId')),\\\n",
    "                                                      F.count(col('song')))\n",
    "df_time = time.toPandas()\n",
    "df_time.head()"
   ]
  },
  {
   "cell_type": "code",
   "execution_count": 20,
   "id": "1c4d7979",
   "metadata": {},
   "outputs": [
    {
     "data": {
      "image/png": "[encoded data removed]",
      "text/plain": [
       "<Figure size 432x288 with 1 Axes>"
      ]
     },
     "metadata": {
      "needs_background": "light"
     },
     "output_type": "display_data"
    }
   ],
   "source": [
    "# Count session over time\n",
    "plt.gca().xaxis.set_major_formatter(mdates.DateFormatter('%m/%d/%Y'))\n",
    "plt.gca().xaxis.set_major_locator(mdates.DayLocator(interval=15))\n",
    "\n",
    "# plot\n",
    "plt.plot_date(df_time['date'][df_time.level == \"paid\"], df_time['count(sessionId)'][df_time.level == \"paid\"], label = 'paid')\n",
    "plt.plot_date(df_time['date'][df_time.level == \"free\"], df_time['count(sessionId)'][df_time.level == \"free\"], label = 'free')\n",
    "plt.legend()\n",
    "plt.ylabel('Count Session')\n",
    "plt.xlabel('Date')\n",
    "plt.title('User Session Summary')\n",
    "plt.show()"
   ]
  },
  {
   "cell_type": "code",
   "execution_count": 21,
   "id": "ae0f95ba",
   "metadata": {},
   "outputs": [
    {
     "data": {
      "image/png": "[encoded data removed]",
      "text/plain": [
       "<Figure size 432x288 with 1 Axes>"
      ]
     },
     "metadata": {
      "needs_background": "light"
     },
     "output_type": "display_data"
    }
   ],
   "source": [
    "# Count distinct user over time\n",
    "\n",
    "plt.gca().xaxis.set_major_formatter(mdates.DateFormatter('%m/%d/%Y'))\n",
    "plt.gca().xaxis.set_major_locator(mdates.DayLocator(interval=15))\n",
    "\n",
    "plt.plot_date(df_time['date'][df_time.level == \"paid\"], df_time['count(userId)'][df_time.level == \"paid\"], label = 'paid')\n",
    "plt.plot_date(df_time['date'][df_time.level == \"free\"], df_time['count(userId)'][df_time.level == \"free\"], label = 'free')\n",
    "plt.ylabel('Distinct User')\n",
    "plt.xlabel('Date')\n",
    "plt.title('Distinct User Summary')\n",
    "plt.legend()\n",
    "plt.show()"
   ]
  },
  {
   "cell_type": "code",
   "execution_count": 22,
   "id": "d209a0f7",
   "metadata": {},
   "outputs": [
    {
     "data": {
      "image/png": "[encoded data removed]",
      "text/plain": [
       "<Figure size 432x288 with 1 Axes>"
      ]
     },
     "metadata": {
      "needs_background": "light"
     },
     "output_type": "display_data"
    }
   ],
   "source": [
    "# Count songs over time\n",
    "plt.gca().xaxis.set_major_formatter(mdates.DateFormatter('%m/%d/%Y'))\n",
    "plt.gca().xaxis.set_major_locator(mdates.DayLocator(interval=15))\n",
    "\n",
    "plt.plot_date(df_time['date'][df_time.level == \"paid\"], df_time['count(song)'][df_time.level == \"paid\"], label = 'paid')\n",
    "plt.plot_date(df_time['date'][df_time.level == \"free\"], df_time['count(song)'][df_time.level == \"free\"], label = 'free')\n",
    "plt.ylabel('Count Song')\n",
    "plt.xlabel('Date')\n",
    "plt.title('Song Number Summary')\n",
    "plt.legend()\n",
    "plt.show()"
   ]
  },
  {
   "cell_type": "markdown",
   "id": "8d3bc1b2",
   "metadata": {},
   "source": [
    "The number of free users, free usersessions and free songs decreases over time."
   ]
  },
  {
   "cell_type": "markdown",
   "id": "50f39844",
   "metadata": {},
   "source": [
    "## Feature Engineering"
   ]
  },
  {
   "cell_type": "code",
   "execution_count": 23,
   "id": "48901b2b",
   "metadata": {},
   "outputs": [],
   "source": [
    "df_feat = df_clean"
   ]
  },
  {
   "cell_type": "markdown",
   "id": "2ed8e10f",
   "metadata": {},
   "source": [
    "### User Age"
   ]
  },
  {
   "cell_type": "code",
   "execution_count": 24,
   "id": "8cc6b36a",
   "metadata": {},
   "outputs": [
    {
     "name": "stdout",
     "output_type": "stream",
     "text": [
      "+-------+------------------+\n",
      "|summary|          user_age|\n",
      "+-------+------------------+\n",
      "|  count|            278154|\n",
      "|   mean| 64.76562983095695|\n",
      "| stddev|41.997767963116296|\n",
      "|    min|                -2|\n",
      "|    max|               256|\n",
      "+-------+------------------+\n",
      "\n"
     ]
    }
   ],
   "source": [
    "# Calculate user age since registration to the activity date\n",
    "df_feat = df_feat.withColumn(\"date\", F.to_date(F.from_unixtime(col('ts')/lit(1000))))\n",
    "df_feat = df_feat.withColumn('date_register', F.to_date(F.from_unixtime(col('registration')/lit(1000))))\n",
    "df_feat = df_feat.withColumn('user_age', F.datediff(col('date'), col('date_register')))\n",
    "df_feat.describe('user_age').show()"
   ]
  },
  {
   "cell_type": "code",
   "execution_count": 25,
   "id": "8e856f51",
   "metadata": {},
   "outputs": [
    {
     "name": "stderr",
     "output_type": "stream",
     "text": [
      "                                                                                \r"
     ]
    },
    {
     "data": {
      "text/plain": [
       "<AxesSubplot:>"
      ]
     },
     "execution_count": 25,
     "metadata": {},
     "output_type": "execute_result"
    },
    {
     "data": {
      "image/png": "[encoded data removed]",
      "text/plain": [
       "<Figure size 432x288 with 1 Axes>"
      ]
     },
     "metadata": {
      "needs_background": "light"
     },
     "output_type": "display_data"
    }
   ],
   "source": [
    "# User age in not churn user\n",
    "df_cancelled = df_feat.filter(col('cancel') == 0).select(['date','user_age']).toPandas()\n",
    "df_cancelled['user_age'].hist()"
   ]
  },
  {
   "cell_type": "code",
   "execution_count": 26,
   "id": "c537d8d1",
   "metadata": {},
   "outputs": [
    {
     "name": "stderr",
     "output_type": "stream",
     "text": [
      "\r\n",
      "[Stage 156:>                                                      (0 + 10) / 10]\r\n",
      "\r\n",
      "                                                                                \r"
     ]
    },
    {
     "data": {
      "text/plain": [
       "<AxesSubplot:>"
      ]
     },
     "execution_count": 26,
     "metadata": {},
     "output_type": "execute_result"
    },
    {
     "data": {
      "image/png": "[encoded data removed]",
      "text/plain": [
       "<Figure size 432x288 with 1 Axes>"
      ]
     },
     "metadata": {
      "needs_background": "light"
     },
     "output_type": "display_data"
    }
   ],
   "source": [
    "# User age in churn user\n",
    "df_cancelled = df_feat.filter(col('cancel') == 1).select(['date','user_age']).toPandas()\n",
    "df_cancelled['user_age'].hist()"
   ]
  },
  {
   "cell_type": "markdown",
   "id": "68f610bf",
   "metadata": {},
   "source": [
    "### User interaction"
   ]
  },
  {
   "cell_type": "code",
   "execution_count": 27,
   "id": "88eb7160",
   "metadata": {},
   "outputs": [],
   "source": [
    "# Get proactive user interactions except for playing songs\n",
    "inter = ['Thumbs Up', 'Thumbs Down', 'Add to Playlist', 'Add Friend']\n",
    "get_interactions = udf(lambda x: 1 if x in inter else 0, IntegerType())\n",
    "\n",
    "# Get negative feedback from user\n",
    "thumbs_down = udf(lambda x: 1 if x == 'Thumbs Down' else 0, IntegerType())\n",
    "\n",
    "df_feat = df_feat.withColumn('interactions', get_interactions('page'))\n",
    "df_feat = df_feat.withColumn('thumbs_down', thumbs_down('page'))"
   ]
  },
  {
   "cell_type": "code",
   "execution_count": 28,
   "id": "a55eb612",
   "metadata": {},
   "outputs": [],
   "source": [
    "# Create `downgrades` to show if the user ever downgraded\n",
    "downgraded = udf(lambda x: 1 if x == 'Submit Downgrade' else 0, IntegerType())\n",
    "df_feat = df_feat.withColumn('downgraded', downgraded('page'))"
   ]
  },
  {
   "cell_type": "code",
   "execution_count": 29,
   "id": "ef33cc36",
   "metadata": {},
   "outputs": [],
   "source": [
    "# Create `paid` to show if the user ever be 'paid' user\n",
    "paid = udf(lambda x: 1 if x == 'paid' else 0, IntegerType())\n",
    "df_feat = df_feat.withColumn('paid', paid('level'))"
   ]
  },
  {
   "cell_type": "code",
   "execution_count": 30,
   "id": "f1129373",
   "metadata": {},
   "outputs": [],
   "source": [
    "# Create `songs` feature to calculate number of songs from users\n",
    "NextSong = udf(lambda x: 1 if x == 'NextSong' else 0, IntegerType())\n",
    "df_feat = df_feat.withColumn('songs', NextSong('page'))"
   ]
  },
  {
   "cell_type": "code",
   "execution_count": 31,
   "id": "c5bdb09d",
   "metadata": {},
   "outputs": [],
   "source": [
    "# Convert gender to 1/0. 1 = Female\n",
    "female = udf(lambda x: 1 if x == 'F' else 0, IntegerType())\n",
    "df_feat = df_feat.withColumn('female', female('gender'))"
   ]
  },
  {
   "cell_type": "markdown",
   "id": "6959b03a",
   "metadata": {},
   "source": [
    "### User level dimension"
   ]
  },
  {
   "cell_type": "code",
   "execution_count": 32,
   "id": "92f5dce9",
   "metadata": {},
   "outputs": [],
   "source": [
    "user_dims = df_feat.groupby('userId','female','date_register').agg(\\\n",
    "                                                          max('user_age').alias('user_age'),\\\n",
    "                                                          max('paid').alias('paid_user'),\\\n",
    "                                                          max('downgraded').alias('downgraded_user'),\\\n",
    "                                                          max('cancel').alias('canceled'))"
   ]
  },
  {
   "cell_type": "code",
   "execution_count": 33,
   "id": "8cb9e3f9",
   "metadata": {},
   "outputs": [
    {
     "name": "stderr",
     "output_type": "stream",
     "text": [
      "                                                                                \r"
     ]
    },
    {
     "data": {
      "text/plain": [
       "[Row(userId='142', female=0, date_register=datetime.date(2018, 9, 28), user_age=63, paid_user=1, downgraded_user=0, canceled=0)]"
      ]
     },
     "execution_count": 33,
     "metadata": {},
     "output_type": "execute_result"
    }
   ],
   "source": [
    "# Inspect Dimensions\n",
    "user_dims.take(1)"
   ]
  },
  {
   "cell_type": "markdown",
   "id": "8f7e1079",
   "metadata": {},
   "source": [
    "### Measures based on usersessions and interactions"
   ]
  },
  {
   "cell_type": "code",
   "execution_count": 34,
   "id": "bb623b7b",
   "metadata": {},
   "outputs": [],
   "source": [
    "# Get the aggregates measures by userId & sessionId level\n",
    "measures = df_feat.groupby('userId','sessionId').agg(\\\n",
    "                                                      min('date').alias('start_date'),\\\n",
    "                                                      max('date').alias('end_date'),\\\n",
    "                                                      sum('interactions').alias('interactions'),\\\n",
    "                                                      sum('thumbs_down').alias('thumbs_down'),\\\n",
    "                                                      sum('songs').alias('songs'),\\\n",
    "                                                      sum('length').alias('length'),\\\n",
    "                                                      countDistinct('artist').alias('c_artist'))"
   ]
  },
  {
   "cell_type": "code",
   "execution_count": 35,
   "id": "33c89654",
   "metadata": {},
   "outputs": [
    {
     "name": "stderr",
     "output_type": "stream",
     "text": [
      "23/10/14 19:46:57 WARN package: Truncated the string representation of a plan since it was too large. This behavior can be adjusted by setting 'spark.sql.debug.maxToStringFields'.\n"
     ]
    }
   ],
   "source": [
    "# Get the date gap between sessions\n",
    "# Get the aggregates measures by userId level\n",
    "measures.createOrReplaceTempView(\"measures_temp\")\n",
    "measures_agg = spark.sql(\n",
    "\"\"\"\n",
    "    SELECT\n",
    "        userId AS userId,\n",
    "        COUNT(sessionId) AS total_session,\n",
    "        AVG(interactions) AS interactions,\n",
    "        AVG(thumbs_down) AS thumbs_down,\n",
    "        AVG(songs) AS songs,\n",
    "        AVG(length) AS length,\n",
    "        AVG(c_artist) AS artists,\n",
    "        AVG(session_gap) AS session_gap\n",
    "    FROM (\n",
    "        SELECT\n",
    "            *,\n",
    "            LAG(end_date) OVER (PARTITION BY userId ORDER BY start_date) AS prev_end_date,\n",
    "            DATEDIFF(start_date, LAG(end_date) OVER (PARTITION BY userId ORDER BY start_date)) AS session_gap\n",
    "        FROM\n",
    "            measures_temp\n",
    "    ) AS temp\n",
    "    GROUP BY userId\n",
    "\"\"\")\n"
   ]
  },
  {
   "cell_type": "code",
   "execution_count": 36,
   "id": "623bc141",
   "metadata": {},
   "outputs": [
    {
     "name": "stderr",
     "output_type": "stream",
     "text": [
      "                                                                                \r"
     ]
    },
    {
     "data": {
      "text/plain": [
       "[Row(userId='10', total_session=6, interactions=10.333333333333334, thumbs_down=0.6666666666666666, songs=112.16666666666667, length=27811.062085, artists=104.66666666666667, session_gap=8.0)]"
      ]
     },
     "execution_count": 36,
     "metadata": {},
     "output_type": "execute_result"
    }
   ],
   "source": [
    "# Inspect measures\n",
    "measures_agg.take(1)"
   ]
  },
  {
   "cell_type": "code",
   "execution_count": 37,
   "id": "1488b645",
   "metadata": {},
   "outputs": [
    {
     "name": "stderr",
     "output_type": "stream",
     "text": [
      "                                                                                \r"
     ]
    },
    {
     "name": "stdout",
     "output_type": "stream",
     "text": [
      "user_dims:  225  measure_agg:  225\n"
     ]
    }
   ],
   "source": [
    "# Inspect user_dim and measure shape\n",
    "print('user_dims: ', user_dims.count(),' measure_agg: ', measures_agg.count())"
   ]
  },
  {
   "cell_type": "code",
   "execution_count": 38,
   "id": "85bafd93",
   "metadata": {},
   "outputs": [],
   "source": [
    "# Join dims and measures_agg\n",
    "df_model = user_dims.join(measures_agg, on = 'userId')"
   ]
  },
  {
   "cell_type": "code",
   "execution_count": 39,
   "id": "2fe5c60d",
   "metadata": {},
   "outputs": [
    {
     "name": "stderr",
     "output_type": "stream",
     "text": [
      "[Stage 187:>                                                      (0 + 10) / 10]\r"
     ]
    },
    {
     "name": "stdout",
     "output_type": "stream",
     "text": [
      "(225, 14)\n"
     ]
    },
    {
     "name": "stderr",
     "output_type": "stream",
     "text": [
      "\r\n",
      "                                                                                \r"
     ]
    }
   ],
   "source": [
    "# Inspect df_model shape\n",
    "print(df_model.toPandas().shape)"
   ]
  },
  {
   "cell_type": "code",
   "execution_count": 40,
   "id": "2d8a6a9c",
   "metadata": {},
   "outputs": [],
   "source": [
    "df_model_P=df_model.toPandas()"
   ]
  },
  {
   "cell_type": "code",
   "execution_count": 41,
   "id": "40f2f5b6",
   "metadata": {},
   "outputs": [
    {
     "data": {
      "text/html": [
       "<div>\n",
       "<style scoped>\n",
       "    .dataframe tbody tr th:only-of-type {\n",
       "        vertical-align: middle;\n",
       "    }\n",
       "\n",
       "    .dataframe tbody tr th {\n",
       "        vertical-align: top;\n",
       "    }\n",
       "\n",
       "    .dataframe thead th {\n",
       "        text-align: right;\n",
       "    }\n",
       "</style>\n",
       "<table border=\"1\" class=\"dataframe\">\n",
       "  <thead>\n",
       "    <tr style=\"text-align: right;\">\n",
       "      <th></th>\n",
       "      <th>userId</th>\n",
       "      <th>female</th>\n",
       "      <th>date_register</th>\n",
       "      <th>user_age</th>\n",
       "      <th>paid_user</th>\n",
       "      <th>downgraded_user</th>\n",
       "      <th>canceled</th>\n",
       "      <th>total_session</th>\n",
       "      <th>interactions</th>\n",
       "      <th>thumbs_down</th>\n",
       "      <th>songs</th>\n",
       "      <th>length</th>\n",
       "      <th>artists</th>\n",
       "      <th>session_gap</th>\n",
       "    </tr>\n",
       "  </thead>\n",
       "  <tbody>\n",
       "    <tr>\n",
       "      <th>7</th>\n",
       "      <td>100006</td>\n",
       "      <td>1</td>\n",
       "      <td>2018-09-26</td>\n",
       "      <td>9</td>\n",
       "      <td>0</td>\n",
       "      <td>0</td>\n",
       "      <td>1</td>\n",
       "      <td>1</td>\n",
       "      <td>9.0</td>\n",
       "      <td>2.0</td>\n",
       "      <td>26.0</td>\n",
       "      <td>5854.89105</td>\n",
       "      <td>26.0</td>\n",
       "      <td>NaN</td>\n",
       "    </tr>\n",
       "    <tr>\n",
       "      <th>12</th>\n",
       "      <td>100011</td>\n",
       "      <td>0</td>\n",
       "      <td>2018-09-26</td>\n",
       "      <td>5</td>\n",
       "      <td>0</td>\n",
       "      <td>0</td>\n",
       "      <td>1</td>\n",
       "      <td>1</td>\n",
       "      <td>3.0</td>\n",
       "      <td>1.0</td>\n",
       "      <td>11.0</td>\n",
       "      <td>2841.69950</td>\n",
       "      <td>11.0</td>\n",
       "      <td>NaN</td>\n",
       "    </tr>\n",
       "    <tr>\n",
       "      <th>18</th>\n",
       "      <td>100017</td>\n",
       "      <td>0</td>\n",
       "      <td>2018-08-02</td>\n",
       "      <td>79</td>\n",
       "      <td>0</td>\n",
       "      <td>0</td>\n",
       "      <td>1</td>\n",
       "      <td>1</td>\n",
       "      <td>4.0</td>\n",
       "      <td>1.0</td>\n",
       "      <td>52.0</td>\n",
       "      <td>12261.72340</td>\n",
       "      <td>51.0</td>\n",
       "      <td>NaN</td>\n",
       "    </tr>\n",
       "    <tr>\n",
       "      <th>24</th>\n",
       "      <td>100024</td>\n",
       "      <td>0</td>\n",
       "      <td>2018-09-07</td>\n",
       "      <td>27</td>\n",
       "      <td>0</td>\n",
       "      <td>0</td>\n",
       "      <td>1</td>\n",
       "      <td>1</td>\n",
       "      <td>5.0</td>\n",
       "      <td>0.0</td>\n",
       "      <td>22.0</td>\n",
       "      <td>5160.53207</td>\n",
       "      <td>22.0</td>\n",
       "      <td>NaN</td>\n",
       "    </tr>\n",
       "    <tr>\n",
       "      <th>52</th>\n",
       "      <td>125</td>\n",
       "      <td>0</td>\n",
       "      <td>2018-08-01</td>\n",
       "      <td>72</td>\n",
       "      <td>0</td>\n",
       "      <td>0</td>\n",
       "      <td>1</td>\n",
       "      <td>1</td>\n",
       "      <td>0.0</td>\n",
       "      <td>0.0</td>\n",
       "      <td>8.0</td>\n",
       "      <td>2089.11310</td>\n",
       "      <td>8.0</td>\n",
       "      <td>NaN</td>\n",
       "    </tr>\n",
       "    <tr>\n",
       "      <th>60</th>\n",
       "      <td>133</td>\n",
       "      <td>0</td>\n",
       "      <td>2018-09-05</td>\n",
       "      <td>39</td>\n",
       "      <td>0</td>\n",
       "      <td>0</td>\n",
       "      <td>0</td>\n",
       "      <td>1</td>\n",
       "      <td>6.0</td>\n",
       "      <td>0.0</td>\n",
       "      <td>32.0</td>\n",
       "      <td>8029.16428</td>\n",
       "      <td>32.0</td>\n",
       "      <td>NaN</td>\n",
       "    </tr>\n",
       "    <tr>\n",
       "      <th>62</th>\n",
       "      <td>135</td>\n",
       "      <td>1</td>\n",
       "      <td>2018-07-24</td>\n",
       "      <td>72</td>\n",
       "      <td>0</td>\n",
       "      <td>0</td>\n",
       "      <td>0</td>\n",
       "      <td>1</td>\n",
       "      <td>0.0</td>\n",
       "      <td>0.0</td>\n",
       "      <td>6.0</td>\n",
       "      <td>1596.44461</td>\n",
       "      <td>6.0</td>\n",
       "      <td>NaN</td>\n",
       "    </tr>\n",
       "    <tr>\n",
       "      <th>80</th>\n",
       "      <td>151</td>\n",
       "      <td>0</td>\n",
       "      <td>2018-09-25</td>\n",
       "      <td>42</td>\n",
       "      <td>1</td>\n",
       "      <td>0</td>\n",
       "      <td>0</td>\n",
       "      <td>1</td>\n",
       "      <td>10.0</td>\n",
       "      <td>1.0</td>\n",
       "      <td>138.0</td>\n",
       "      <td>32481.13906</td>\n",
       "      <td>132.0</td>\n",
       "      <td>NaN</td>\n",
       "    </tr>\n",
       "    <tr>\n",
       "      <th>85</th>\n",
       "      <td>156</td>\n",
       "      <td>0</td>\n",
       "      <td>2018-11-26</td>\n",
       "      <td>0</td>\n",
       "      <td>0</td>\n",
       "      <td>0</td>\n",
       "      <td>0</td>\n",
       "      <td>1</td>\n",
       "      <td>0.0</td>\n",
       "      <td>0.0</td>\n",
       "      <td>3.0</td>\n",
       "      <td>691.66884</td>\n",
       "      <td>3.0</td>\n",
       "      <td>NaN</td>\n",
       "    </tr>\n",
       "    <tr>\n",
       "      <th>89</th>\n",
       "      <td>19</td>\n",
       "      <td>1</td>\n",
       "      <td>2018-09-18</td>\n",
       "      <td>22</td>\n",
       "      <td>1</td>\n",
       "      <td>0</td>\n",
       "      <td>0</td>\n",
       "      <td>1</td>\n",
       "      <td>19.0</td>\n",
       "      <td>2.0</td>\n",
       "      <td>216.0</td>\n",
       "      <td>54480.93387</td>\n",
       "      <td>197.0</td>\n",
       "      <td>NaN</td>\n",
       "    </tr>\n",
       "    <tr>\n",
       "      <th>129</th>\n",
       "      <td>300003</td>\n",
       "      <td>0</td>\n",
       "      <td>2018-07-05</td>\n",
       "      <td>99</td>\n",
       "      <td>0</td>\n",
       "      <td>0</td>\n",
       "      <td>0</td>\n",
       "      <td>1</td>\n",
       "      <td>3.0</td>\n",
       "      <td>0.0</td>\n",
       "      <td>27.0</td>\n",
       "      <td>6567.87674</td>\n",
       "      <td>26.0</td>\n",
       "      <td>NaN</td>\n",
       "    </tr>\n",
       "    <tr>\n",
       "      <th>133</th>\n",
       "      <td>300007</td>\n",
       "      <td>0</td>\n",
       "      <td>2018-09-23</td>\n",
       "      <td>11</td>\n",
       "      <td>1</td>\n",
       "      <td>0</td>\n",
       "      <td>1</td>\n",
       "      <td>1</td>\n",
       "      <td>20.0</td>\n",
       "      <td>1.0</td>\n",
       "      <td>111.0</td>\n",
       "      <td>28028.71048</td>\n",
       "      <td>107.0</td>\n",
       "      <td>NaN</td>\n",
       "    </tr>\n",
       "    <tr>\n",
       "      <th>150</th>\n",
       "      <td>300024</td>\n",
       "      <td>1</td>\n",
       "      <td>2018-09-10</td>\n",
       "      <td>39</td>\n",
       "      <td>1</td>\n",
       "      <td>0</td>\n",
       "      <td>0</td>\n",
       "      <td>1</td>\n",
       "      <td>10.0</td>\n",
       "      <td>0.0</td>\n",
       "      <td>88.0</td>\n",
       "      <td>22698.64417</td>\n",
       "      <td>85.0</td>\n",
       "      <td>NaN</td>\n",
       "    </tr>\n",
       "    <tr>\n",
       "      <th>185</th>\n",
       "      <td>63</td>\n",
       "      <td>1</td>\n",
       "      <td>2018-09-21</td>\n",
       "      <td>40</td>\n",
       "      <td>0</td>\n",
       "      <td>0</td>\n",
       "      <td>0</td>\n",
       "      <td>1</td>\n",
       "      <td>10.0</td>\n",
       "      <td>3.0</td>\n",
       "      <td>87.0</td>\n",
       "      <td>23151.84299</td>\n",
       "      <td>83.0</td>\n",
       "      <td>NaN</td>\n",
       "    </tr>\n",
       "    <tr>\n",
       "      <th>195</th>\n",
       "      <td>72</td>\n",
       "      <td>1</td>\n",
       "      <td>2018-07-05</td>\n",
       "      <td>124</td>\n",
       "      <td>0</td>\n",
       "      <td>0</td>\n",
       "      <td>0</td>\n",
       "      <td>1</td>\n",
       "      <td>13.0</td>\n",
       "      <td>1.0</td>\n",
       "      <td>85.0</td>\n",
       "      <td>19961.03902</td>\n",
       "      <td>82.0</td>\n",
       "      <td>NaN</td>\n",
       "    </tr>\n",
       "  </tbody>\n",
       "</table>\n",
       "</div>"
      ],
      "text/plain": [
       "     userId  female date_register  user_age  paid_user  downgraded_user  \\\n",
       "7    100006       1    2018-09-26         9          0                0   \n",
       "12   100011       0    2018-09-26         5          0                0   \n",
       "18   100017       0    2018-08-02        79          0                0   \n",
       "24   100024       0    2018-09-07        27          0                0   \n",
       "52      125       0    2018-08-01        72          0                0   \n",
       "60      133       0    2018-09-05        39          0                0   \n",
       "62      135       1    2018-07-24        72          0                0   \n",
       "80      151       0    2018-09-25        42          1                0   \n",
       "85      156       0    2018-11-26         0          0                0   \n",
       "89       19       1    2018-09-18        22          1                0   \n",
       "129  300003       0    2018-07-05        99          0                0   \n",
       "133  300007       0    2018-09-23        11          1                0   \n",
       "150  300024       1    2018-09-10        39          1                0   \n",
       "185      63       1    2018-09-21        40          0                0   \n",
       "195      72       1    2018-07-05       124          0                0   \n",
       "\n",
       "     canceled  total_session  interactions  thumbs_down  songs       length  \\\n",
       "7           1              1           9.0          2.0   26.0   5854.89105   \n",
       "12          1              1           3.0          1.0   11.0   2841.69950   \n",
       "18          1              1           4.0          1.0   52.0  12261.72340   \n",
       "24          1              1           5.0          0.0   22.0   5160.53207   \n",
       "52          1              1           0.0          0.0    8.0   2089.11310   \n",
       "60          0              1           6.0          0.0   32.0   8029.16428   \n",
       "62          0              1           0.0          0.0    6.0   1596.44461   \n",
       "80          0              1          10.0          1.0  138.0  32481.13906   \n",
       "85          0              1           0.0          0.0    3.0    691.66884   \n",
       "89          0              1          19.0          2.0  216.0  54480.93387   \n",
       "129         0              1           3.0          0.0   27.0   6567.87674   \n",
       "133         1              1          20.0          1.0  111.0  28028.71048   \n",
       "150         0              1          10.0          0.0   88.0  22698.64417   \n",
       "185         0              1          10.0          3.0   87.0  23151.84299   \n",
       "195         0              1          13.0          1.0   85.0  19961.03902   \n",
       "\n",
       "     artists  session_gap  \n",
       "7       26.0          NaN  \n",
       "12      11.0          NaN  \n",
       "18      51.0          NaN  \n",
       "24      22.0          NaN  \n",
       "52       8.0          NaN  \n",
       "60      32.0          NaN  \n",
       "62       6.0          NaN  \n",
       "80     132.0          NaN  \n",
       "85       3.0          NaN  \n",
       "89     197.0          NaN  \n",
       "129     26.0          NaN  \n",
       "133    107.0          NaN  \n",
       "150     85.0          NaN  \n",
       "185     83.0          NaN  \n",
       "195     82.0          NaN  "
      ]
     },
     "execution_count": 41,
     "metadata": {},
     "output_type": "execute_result"
    }
   ],
   "source": [
    "# Inspect NULL value in after-join data\n",
    "df_model_P.loc[df_model_P.isnull().sum(axis = 1) > 0]"
   ]
  },
  {
   "cell_type": "markdown",
   "id": "700db2af",
   "metadata": {},
   "source": [
    "All sessions with a missing `session_gap` are associated with a `total session = 1`. This indicates two possible scenarios: \n",
    "\n",
    "1. The user is new, having just registered.\n",
    "2. The user has been dormant since registration.\n",
    "\n",
    "While the second scenario is highly likely to indicate churn, it is distinct from the churn we are attempting to predict in this context. We are focused on identifying users who were previously active but have now decided to leave our platform. Therefore, we will `exclude` the scenario from our prediction analysis."
   ]
  },
  {
   "cell_type": "code",
   "execution_count": 42,
   "id": "1049a9dc",
   "metadata": {},
   "outputs": [
    {
     "data": {
      "text/plain": [
       "array([[<AxesSubplot:title={'center':'female'}>,\n",
       "        <AxesSubplot:title={'center':'user_age'}>,\n",
       "        <AxesSubplot:title={'center':'paid_user'}>],\n",
       "       [<AxesSubplot:title={'center':'downgraded_user'}>,\n",
       "        <AxesSubplot:title={'center':'canceled'}>,\n",
       "        <AxesSubplot:title={'center':'total_session'}>],\n",
       "       [<AxesSubplot:title={'center':'interactions'}>,\n",
       "        <AxesSubplot:title={'center':'thumbs_down'}>,\n",
       "        <AxesSubplot:title={'center':'songs'}>],\n",
       "       [<AxesSubplot:title={'center':'length'}>,\n",
       "        <AxesSubplot:title={'center':'artists'}>,\n",
       "        <AxesSubplot:title={'center':'session_gap'}>]], dtype=object)"
      ]
     },
     "execution_count": 42,
     "metadata": {},
     "output_type": "execute_result"
    },
    {
     "data": {
      "image/png": "[encoded data removed]",
      "text/plain": [
       "<Figure size 720x720 with 12 Axes>"
      ]
     },
     "metadata": {
      "needs_background": "light"
     },
     "output_type": "display_data"
    }
   ],
   "source": [
    "df_model_P.hist(figsize = (10,10))"
   ]
  },
  {
   "cell_type": "code",
   "execution_count": 43,
   "id": "635641c4",
   "metadata": {},
   "outputs": [
    {
     "data": {
      "text/plain": [
       "<AxesSubplot:>"
      ]
     },
     "execution_count": 43,
     "metadata": {},
     "output_type": "execute_result"
    },
    {
     "data": {
      "image/png": "[encoded data removed]",
      "text/plain": [
       "<Figure size 720x720 with 2 Axes>"
      ]
     },
     "metadata": {},
     "output_type": "display_data"
    }
   ],
   "source": [
    "# Get correlations\n",
    "sns.set(rc={'figure.figsize':(10,10)},font_scale=1)\n",
    "sns.heatmap(df_model_P.corr(), annot=True)"
   ]
  },
  {
   "cell_type": "markdown",
   "id": "50c92c0e",
   "metadata": {},
   "source": [
    "From histogram and correlation matrix, **songs**, **length** and **artists** are very similar. We will only include **length** in the model as it has higher correlation with **canceled** and other features."
   ]
  },
  {
   "cell_type": "markdown",
   "id": "a5b1cd13",
   "metadata": {},
   "source": [
    "## Modeling"
   ]
  },
  {
   "cell_type": "code",
   "execution_count": 44,
   "id": "00a3e7b8",
   "metadata": {},
   "outputs": [
    {
     "name": "stdout",
     "output_type": "stream",
     "text": [
      "root\n",
      " |-- userId: string (nullable = true)\n",
      " |-- female: integer (nullable = true)\n",
      " |-- date_register: date (nullable = true)\n",
      " |-- user_age: integer (nullable = true)\n",
      " |-- paid_user: integer (nullable = true)\n",
      " |-- downgraded_user: integer (nullable = true)\n",
      " |-- canceled: integer (nullable = true)\n",
      " |-- total_session: long (nullable = false)\n",
      " |-- interactions: double (nullable = true)\n",
      " |-- thumbs_down: double (nullable = true)\n",
      " |-- songs: double (nullable = true)\n",
      " |-- length: double (nullable = true)\n",
      " |-- artists: double (nullable = true)\n",
      " |-- session_gap: double (nullable = true)\n",
      "\n"
     ]
    }
   ],
   "source": [
    "df_model.printSchema()"
   ]
  },
  {
   "cell_type": "markdown",
   "id": "97ced877",
   "metadata": {},
   "source": [
    "Exclude Null value, `artists`, `songs`, `userId`, `date_register` (The previous analysis has provided reasons for this decision.)"
   ]
  },
  {
   "cell_type": "markdown",
   "id": "56a1f9bc",
   "metadata": {},
   "source": [
    "### ML Pipeline & Function"
   ]
  },
  {
   "cell_type": "code",
   "execution_count": 45,
   "id": "27464609",
   "metadata": {},
   "outputs": [],
   "source": [
    "# Assemble num Features \n",
    "assembler = VectorAssembler(inputCols=['female','user_age','paid_user',\\\n",
    "                                       'downgraded_user','total_session', 'interactions',\\\n",
    "                                      'thumbs_down','length','session_gap'],\\\n",
    "                            outputCol='NumFeatures',handleInvalid = 'skip')\n",
    "data = assembler.transform(df_model)\n",
    "\n",
    "# Use 'canceled' as model prediction label\n",
    "data = data.withColumnRenamed('canceled','label')"
   ]
  },
  {
   "cell_type": "code",
   "execution_count": 46,
   "id": "c23f9d26",
   "metadata": {},
   "outputs": [],
   "source": [
    "# Split train/test data\n",
    "test, validation = data.randomSplit([0.8, 0.2], seed=42)"
   ]
  },
  {
   "cell_type": "code",
   "execution_count": 47,
   "id": "62f12b61",
   "metadata": {},
   "outputs": [],
   "source": [
    "# Standard Scaler\n",
    "standardscaler = StandardScaler(inputCol=\"NumFeatures\", outputCol=\"features\", withMean=True, withStd=True)\n",
    "\n",
    "# ML classification algorithms from Pyspark mllib\n",
    "lr = LogisticRegression(maxIter=10)\n",
    "gbt = GBTClassifier(maxIter=5, maxDepth=2)\n",
    "lsvc = LinearSVC(maxIter=10, regParam=0.1)\n",
    "rf = RandomForestClassifier()"
   ]
  },
  {
   "cell_type": "code",
   "execution_count": 48,
   "id": "dddc5a55",
   "metadata": {},
   "outputs": [],
   "source": [
    "def fit_model(model, paramGrid = None):\n",
    "    \"\"\"\n",
    "    Input: model, paramgrid (optional)\n",
    "    Output: fitted model, prediction on validation set\n",
    "    \"\"\"\n",
    "    pipeline = Pipeline(stages=[standardscaler, model])\n",
    "    \n",
    "    if paramGrid != None:\n",
    "        crossval = CrossValidator(estimator=pipeline,\n",
    "                          estimatorParamMaps=paramGrid,\n",
    "                          evaluator=MulticlassClassificationEvaluator(),\n",
    "                          numFolds=3)\n",
    "        fitmodel = crossval.fit(test)\n",
    "    else:\n",
    "        fitmodel = pipeline.fit(test)\n",
    "    \n",
    "    results = fitmodel.transform(validation)\n",
    "    \n",
    "    return fitmodel, results"
   ]
  },
  {
   "cell_type": "code",
   "execution_count": 49,
   "id": "5c5428ed",
   "metadata": {},
   "outputs": [],
   "source": [
    "# Evaluate the model on validation set\n",
    "def val_evaluation(results):\n",
    "    \"\"\"\n",
    "    Input: prediction results\n",
    "    Output: accuracy, precision and recall score\n",
    "    \"\"\"\n",
    "    predictionAndLabels = results.select(['prediction', 'label']\\\n",
    "                                      ).withColumn('label', col('label').cast(DoubleType())).rdd\n",
    "\n",
    "    metrics = MulticlassMetrics(predictionAndLabels) # create confusion matrix to calculate evaluation metrics\n",
    "    cm=metrics.confusionMatrix().toArray() # convert confusion matrix to numpy array\n",
    "    \n",
    "    # accuracy: (TP+TN)/Total Predictions\n",
    "    # precision: TP/(TP + FP)\n",
    "    # recall: TP/(TP + FN)\n",
    "    # f1 score: 2*(Recall * Precision) / (Recall + Precision)\n",
    "    accuracy=(cm[0][0]+cm[1][1])/cm.sum()\n",
    "    precision=(cm[1][1])/(cm[0][1]+cm[1][1])\n",
    "    recall=(cm[1][1])/(cm[1][0]+cm[1][1])\n",
    "    f1 = MulticlassClassificationEvaluator().evaluate(results)\n",
    "\n",
    "    return(round(f1,2), round(accuracy,2),round(precision,2),round(recall,2))"
   ]
  },
  {
   "cell_type": "markdown",
   "id": "c9a14fd4",
   "metadata": {},
   "source": [
    "### Model fit and evaluation"
   ]
  },
  {
   "cell_type": "code",
   "execution_count": 50,
   "id": "28d1fbd1",
   "metadata": {},
   "outputs": [
    {
     "name": "stderr",
     "output_type": "stream",
     "text": [
      "23/10/14 19:47:26 WARN InstanceBuilder: Failed to load implementation from:dev.ludovic.netlib.blas.JNIBLAS\n",
      "                                                                                \r"
     ]
    }
   ],
   "source": [
    "lrmodel, lrresults = fit_model(lr)\n",
    "rfmodel, rfresults = fit_model(rf)\n",
    "lsvcmodel, lsvcresults = fit_model(lsvc)\n",
    "gbtmodel, gbtresults = fit_model(gbt)"
   ]
  },
  {
   "cell_type": "code",
   "execution_count": 51,
   "id": "3b7c66fe",
   "metadata": {},
   "outputs": [
    {
     "name": "stderr",
     "output_type": "stream",
     "text": [
      "                                                                                \r"
     ]
    },
    {
     "data": {
      "text/html": [
       "<div>\n",
       "<style scoped>\n",
       "    .dataframe tbody tr th:only-of-type {\n",
       "        vertical-align: middle;\n",
       "    }\n",
       "\n",
       "    .dataframe tbody tr th {\n",
       "        vertical-align: top;\n",
       "    }\n",
       "\n",
       "    .dataframe thead th {\n",
       "        text-align: right;\n",
       "    }\n",
       "</style>\n",
       "<table border=\"1\" class=\"dataframe\">\n",
       "  <thead>\n",
       "    <tr style=\"text-align: right;\">\n",
       "      <th></th>\n",
       "      <th>F1 Score</th>\n",
       "      <th>Accuracy</th>\n",
       "      <th>Precision</th>\n",
       "      <th>Recall</th>\n",
       "    </tr>\n",
       "  </thead>\n",
       "  <tbody>\n",
       "    <tr>\n",
       "      <th>LogisticRegression</th>\n",
       "      <td>0.82</td>\n",
       "      <td>0.84</td>\n",
       "      <td>1.0</td>\n",
       "      <td>0.38</td>\n",
       "    </tr>\n",
       "    <tr>\n",
       "      <th>RandomForest</th>\n",
       "      <td>0.82</td>\n",
       "      <td>0.84</td>\n",
       "      <td>1.0</td>\n",
       "      <td>0.38</td>\n",
       "    </tr>\n",
       "    <tr>\n",
       "      <th>Linear SVM</th>\n",
       "      <td>0.71</td>\n",
       "      <td>0.78</td>\n",
       "      <td>1.0</td>\n",
       "      <td>0.12</td>\n",
       "    </tr>\n",
       "    <tr>\n",
       "      <th>GBT</th>\n",
       "      <td>0.77</td>\n",
       "      <td>0.81</td>\n",
       "      <td>1.0</td>\n",
       "      <td>0.25</td>\n",
       "    </tr>\n",
       "  </tbody>\n",
       "</table>\n",
       "</div>"
      ],
      "text/plain": [
       "                    F1 Score  Accuracy  Precision  Recall\n",
       "LogisticRegression      0.82      0.84        1.0    0.38\n",
       "RandomForest            0.82      0.84        1.0    0.38\n",
       "Linear SVM              0.71      0.78        1.0    0.12\n",
       "GBT                     0.77      0.81        1.0    0.25"
      ]
     },
     "execution_count": 51,
     "metadata": {},
     "output_type": "execute_result"
    }
   ],
   "source": [
    "models = [\"LogisticRegression\", \"RandomForest\", \"Linear SVM\", \"GBT\"]\n",
    "results = [val_evaluation(lrresults), val_evaluation(rfresults), val_evaluation(lsvcresults), val_evaluation(gbtresults)]\n",
    "results_df = pd.DataFrame(results, columns=[\"F1 Score\", \"Accuracy\", \"Precision\", \"Recall\"], index=models)\n",
    "results_df"
   ]
  },
  {
   "cell_type": "markdown",
   "id": "56684ac7",
   "metadata": {},
   "source": [
    "Logistic Regression and Random Forest both have the best performance in all metrics. Since **Random Forest** is more effective in large dataset, it will be trained and tuned with full **12GB** data well.\n",
    "\n",
    "Linear SVM classifier and Gradient Boosting Classifier have very low recall which means they are less likely to identify any churn user."
   ]
  },
  {
   "cell_type": "markdown",
   "id": "06421a1e",
   "metadata": {},
   "source": [
    "## Logistic Regression Tuning\n",
    "- Look the coefficients\n",
    "- Find the best threshold\n",
    "- Apply weights to unbalanced data"
   ]
  },
  {
   "cell_type": "code",
   "execution_count": 52,
   "id": "5ec4fb01",
   "metadata": {},
   "outputs": [],
   "source": [
    "# Get current training summary\n",
    "trainingSummary = lrmodel.stages[-1].summary"
   ]
  },
  {
   "cell_type": "code",
   "execution_count": 53,
   "id": "a23a2fd1",
   "metadata": {},
   "outputs": [
    {
     "data": {
      "image/png": "[encoded data removed]",
      "text/plain": [
       "<Figure size 720x720 with 1 Axes>"
      ]
     },
     "metadata": {},
     "output_type": "display_data"
    },
    {
     "name": "stdout",
     "output_type": "stream",
     "text": [
      "Training set areaUnderROC: 0.88\n"
     ]
    }
   ],
   "source": [
    "# AUC-ROC in LR\n",
    "roc = trainingSummary.roc.toPandas()\n",
    "plt.plot(roc['FPR'],roc['TPR'])\n",
    "plt.ylabel('False Positive Rate')\n",
    "plt.xlabel('True Positive Rate')\n",
    "plt.title('ROC Curve')\n",
    "plt.show()\n",
    "print('Training set areaUnderROC: ' + str(round(trainingSummary.areaUnderROC,2)))"
   ]
  },
  {
   "cell_type": "code",
   "execution_count": 54,
   "id": "e096ddd2",
   "metadata": {},
   "outputs": [],
   "source": [
    "# Extract feature names from the original data\n",
    "dict_feats = data.schema['NumFeatures'].metadata['ml_attr']['attrs']['numeric']\n",
    "list_feats = np.array([x['name'] for x in dict_feats])"
   ]
  },
  {
   "cell_type": "code",
   "execution_count": 55,
   "id": "f1e77afc",
   "metadata": {},
   "outputs": [
    {
     "data": {
      "image/png": "[encoded data removed]",
      "text/plain": [
       "<Figure size 720x432 with 1 Axes>"
      ]
     },
     "metadata": {},
     "output_type": "display_data"
    }
   ],
   "source": [
    "# Get LR coefficients\n",
    "lr_corr = lrmodel.stages[-1].coefficients\n",
    "\n",
    "plt.figure(figsize=(10, 6))\n",
    "plt.barh(list_feats, lr_corr, color = 'purple')\n",
    "plt.xlabel('Coefficient Value')\n",
    "plt.ylabel('Feature Name')\n",
    "plt.title('Logistic Regression Coefficients')\n",
    "plt.grid(axis='x')\n",
    "plt.show()"
   ]
  },
  {
   "cell_type": "markdown",
   "id": "7f65dd7d",
   "metadata": {},
   "source": [
    "### Best Threshold in LR"
   ]
  },
  {
   "cell_type": "code",
   "execution_count": 56,
   "id": "e3795dcd",
   "metadata": {},
   "outputs": [
    {
     "name": "stdout",
     "output_type": "stream",
     "text": [
      "bestThreshold in current LR model: 0.47\n"
     ]
    }
   ],
   "source": [
    "# Get best threshold for current lr model\n",
    "fMeasure = trainingSummary.fMeasureByThreshold\n",
    "maxFMeasure = fMeasure.groupBy().max('F-Measure').select('max(F-Measure)').head()\n",
    "\n",
    "bestThreshold = fMeasure.where(fMeasure['F-Measure'] == maxFMeasure['max(F-Measure)']) \\\n",
    "    .select('threshold').head()['threshold']\n",
    "\n",
    "print('bestThreshold in current LR model:', round(bestThreshold,2))"
   ]
  },
  {
   "cell_type": "markdown",
   "id": "1bf5aea8",
   "metadata": {},
   "source": [
    "### LR model - Add Weight"
   ]
  },
  {
   "cell_type": "code",
   "execution_count": 57,
   "id": "fc009c71",
   "metadata": {},
   "outputs": [
    {
     "name": "stderr",
     "output_type": "stream",
     "text": [
      "                                                                                \r"
     ]
    }
   ],
   "source": [
    "# Try weighted col since the cancelled outcome is unbalanced (20%)\n",
    "balancingRatio = data.filter(col('label') == 1).count() / data.count()\n",
    "calculateWeights = udf(lambda x: 1 * balancingRatio if x == 0 else (1 * (1.0 - balancingRatio)), DoubleType())\n",
    "\n",
    "weightedDataset = data.withColumn(\"classWeightCol\", calculateWeights('label'))"
   ]
  },
  {
   "cell_type": "code",
   "execution_count": 58,
   "id": "f185ab3a",
   "metadata": {},
   "outputs": [
    {
     "name": "stderr",
     "output_type": "stream",
     "text": [
      "                                                                                \r"
     ]
    },
    {
     "name": "stdout",
     "output_type": "stream",
     "text": [
      "+-------------------+-----+\n",
      "|     classWeightCol|count|\n",
      "+-------------------+-----+\n",
      "|0.21904761904761905|  164|\n",
      "|  0.780952380952381|   46|\n",
      "+-------------------+-----+\n",
      "\n"
     ]
    }
   ],
   "source": [
    "weightedDataset.groupby('classWeightCol').count().show()"
   ]
  },
  {
   "cell_type": "code",
   "execution_count": 59,
   "id": "6b8ebf15",
   "metadata": {},
   "outputs": [
    {
     "name": "stderr",
     "output_type": "stream",
     "text": [
      "                                                                                \r"
     ]
    },
    {
     "data": {
      "text/html": [
       "<div>\n",
       "<style scoped>\n",
       "    .dataframe tbody tr th:only-of-type {\n",
       "        vertical-align: middle;\n",
       "    }\n",
       "\n",
       "    .dataframe tbody tr th {\n",
       "        vertical-align: top;\n",
       "    }\n",
       "\n",
       "    .dataframe thead th {\n",
       "        text-align: right;\n",
       "    }\n",
       "</style>\n",
       "<table border=\"1\" class=\"dataframe\">\n",
       "  <thead>\n",
       "    <tr style=\"text-align: right;\">\n",
       "      <th></th>\n",
       "      <th>F1 Score</th>\n",
       "      <th>Accuracy</th>\n",
       "      <th>Precision</th>\n",
       "      <th>Recall</th>\n",
       "    </tr>\n",
       "  </thead>\n",
       "  <tbody>\n",
       "    <tr>\n",
       "      <th>LogisticRegression</th>\n",
       "      <td>0.82</td>\n",
       "      <td>0.84</td>\n",
       "      <td>1.00</td>\n",
       "      <td>0.38</td>\n",
       "    </tr>\n",
       "    <tr>\n",
       "      <th>LogisticRegression with weight</th>\n",
       "      <td>0.81</td>\n",
       "      <td>0.81</td>\n",
       "      <td>0.62</td>\n",
       "      <td>0.62</td>\n",
       "    </tr>\n",
       "  </tbody>\n",
       "</table>\n",
       "</div>"
      ],
      "text/plain": [
       "                                F1 Score  Accuracy  Precision  Recall\n",
       "LogisticRegression                  0.82      0.84       1.00    0.38\n",
       "LogisticRegression with weight      0.81      0.81       0.62    0.62"
      ]
     },
     "execution_count": 59,
     "metadata": {},
     "output_type": "execute_result"
    }
   ],
   "source": [
    "test, validation = weightedDataset.randomSplit([0.8, 0.2], seed=42)\n",
    "\n",
    "lrweightedmodel, lrweightedresults = fit_model(lr.setWeightCol('classWeightCol'))\n",
    "models = [\"LogisticRegression\", \"LogisticRegression with weight\"]\n",
    "results = [val_evaluation(lrresults), val_evaluation(lrweightedresults)]\n",
    "results_df = pd.DataFrame(results, columns=[\"F1 Score\", \"Accuracy\", \"Precision\", \"Recall\"], index=models)\n",
    "results_df"
   ]
  },
  {
   "cell_type": "markdown",
   "id": "626a0deb",
   "metadata": {},
   "source": [
    "In the logistic regression model with weights, the **recall** is significantly higher at **0.62** compared to the original logistic regression model at 0.38, despite a decrease in precision. In a churn prediction task, it is more crucial to identify all at-risk churn users, making recall more important."
   ]
  },
  {
   "cell_type": "markdown",
   "id": "52c66afc",
   "metadata": {},
   "source": [
    "## Random Forest Tuning\n",
    "- Look feature importance\n",
    "- Conduct **grid search** to explore the best parameter configuration and apply in full 12GB data"
   ]
  },
  {
   "cell_type": "code",
   "execution_count": 60,
   "id": "e12e9d91",
   "metadata": {},
   "outputs": [
    {
     "data": {
      "image/png": "[encoded data removed]",
      "text/plain": [
       "<Figure size 720x432 with 1 Axes>"
      ]
     },
     "metadata": {},
     "output_type": "display_data"
    }
   ],
   "source": [
    "# Extract feature importance from rfmodel\n",
    "featImportances = np.array(rfmodel.stages[-1].featureImportances)\n",
    "plt.figure(figsize=(10, 6))\n",
    "plt.barh(list_feats, featImportances, color = 'orange')\n",
    "plt.xlabel('Coefficient Value')\n",
    "plt.ylabel('Feature Name')\n",
    "plt.title('RF feature importance')\n",
    "plt.grid(axis='x')\n",
    "plt.show()"
   ]
  },
  {
   "cell_type": "markdown",
   "id": "14148f13",
   "metadata": {},
   "source": [
    "### Gird search in RF"
   ]
  },
  {
   "cell_type": "code",
   "execution_count": 61,
   "id": "387a1302",
   "metadata": {},
   "outputs": [],
   "source": [
    "param_grid = ParamGridBuilder()\\\n",
    "    .addGrid(rf.maxDepth, [5, 10])\\\n",
    "    .addGrid(rf.numTrees, [20, 30])\\\n",
    "    .build()\n"
   ]
  },
  {
   "cell_type": "code",
   "execution_count": 62,
   "id": "474db9fd",
   "metadata": {},
   "outputs": [
    {
     "name": "stderr",
     "output_type": "stream",
     "text": [
      "[Stage 2409:>                                                     (0 + 10) / 10]\r"
     ]
    }
   ],
   "source": [
    "rfbest, rfresults = fit_model(rf, paramGrid = param_grid)"
   ]
  },
  {
   "cell_type": "code",
   "execution_count": 63,
   "id": "c0f3d755",
   "metadata": {},
   "outputs": [
    {
     "name": "stdout",
     "output_type": "stream",
     "text": [
      "{Param(parent='RandomForestClassifier_9680f4f9bcc0', name='maxDepth', doc='Maximum depth of the tree. (>= 0) E.g., depth 0 means 1 leaf node; depth 1 means 1 internal node + 2 leaf nodes. Must be in range [0, 30].'): 10, Param(parent='RandomForestClassifier_9680f4f9bcc0', name='numTrees', doc='Number of trees to train (>= 1).'): 20}\n"
     ]
    }
   ],
   "source": [
    "# print best model params\n",
    "bp_index = rfbest.avgMetrics.index(np.max(rfbest.avgMetrics))\n",
    "bp = param_grid[bp_index]\n",
    "print(bp)"
   ]
  },
  {
   "cell_type": "code",
   "execution_count": 64,
   "id": "d9b54775",
   "metadata": {},
   "outputs": [
    {
     "name": "stderr",
     "output_type": "stream",
     "text": [
      "                                                                                \r"
     ]
    },
    {
     "name": "stdout",
     "output_type": "stream",
     "text": [
      "RandomForest: f1, accuracy,precision,recall (0.77, 0.81, 1.0, 0.25)\n"
     ]
    }
   ],
   "source": [
    "print(\"RandomForest: f1, accuracy,precision,recall\", val_evaluation(rfresults))"
   ]
  },
  {
   "cell_type": "code",
   "execution_count": 65,
   "id": "a317b8ad",
   "metadata": {},
   "outputs": [],
   "source": [
    "# Extract feature importance from rfmodel\n",
    "featImportances = np.array(rfbest.bestModel.stages[-1].featureImportances)"
   ]
  },
  {
   "cell_type": "code",
   "execution_count": 66,
   "id": "e9027ca0",
   "metadata": {},
   "outputs": [
    {
     "name": "stdout",
     "output_type": "stream",
     "text": [
      "['female' 'user_age' 'paid_user' 'downgraded_user' 'total_session'\n",
      " 'interactions' 'thumbs_down' 'length' 'session_gap'] [0.01926786 0.29212907 0.00677125 0.01678088 0.12918773 0.1239985\n",
      " 0.12501523 0.08479692 0.20205256]\n"
     ]
    }
   ],
   "source": [
    "print(list_feats,featImportances)"
   ]
  }
 ],
 "metadata": {
  "kernelspec": {
   "display_name": "Python 3 (ipykernel)",
   "language": "python",
   "name": "python3"
  },
  "language_info": {
   "codemirror_mode": {
    "name": "ipython",
    "version": 3
   },
   "file_extension": ".py",
   "mimetype": "text/x-python",
   "name": "python",
   "nbconvert_exporter": "python",
   "pygments_lexer": "ipython3",
   "version": "3.9.7"
  }
 },
 "nbformat": 4,
 "nbformat_minor": 5
}
