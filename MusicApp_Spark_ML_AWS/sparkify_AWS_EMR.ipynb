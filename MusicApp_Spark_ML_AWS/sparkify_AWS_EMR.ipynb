{
 "cells": [
  {
   "cell_type": "markdown",
   "id": "b2673689",
   "metadata": {},
   "source": [
    "# Sparkify Churn Prediction - Spark - AWS EMR Deployment\n",
    "\n",
    "This project aims to leverage approximate **27,000,000** user activity records to predict user churn, identifying those most likely to discontinue their engagement. The process involves the retrieval of the complete **12GB dataset** from **AWS S3** and its subsequent processing on an **AWS EMR cluster**. We employ **Spark** for data wrangling, feature engineering, model training, and hyperparameter tuning."
   ]
  },
  {
   "cell_type": "markdown",
   "id": "e5d28de4-4c8c-4fd9-b6e0-a5506843598e",
   "metadata": {
    "execution": {
     "iopub.execute_input": "2023-09-05T01:56:33.929601Z",
     "iopub.status.busy": "2023-09-05T01:56:33.929378Z",
     "iopub.status.idle": "2023-09-05T01:57:02.607275Z",
     "shell.execute_reply": "2023-09-05T01:57:02.606615Z",
     "shell.execute_reply.started": "2023-09-05T01:56:33.929577Z"
    },
    "tags": []
   },
   "source": [
    "### Connect to AWS EMR cluster"
   ]
  },
  {
   "cell_type": "code",
   "execution_count": 1,
   "id": "07d1a79a-6c88-43da-be1c-7e9a53d52c63",
   "metadata": {
    "execution": {
     "iopub.execute_input": "2023-10-14T21:09:45.180541Z",
     "iopub.status.busy": "2023-10-14T21:09:45.180308Z",
     "iopub.status.idle": "2023-10-14T21:10:13.822996Z",
     "shell.execute_reply": "2023-10-14T21:10:13.822490Z",
     "shell.execute_reply.started": "2023-10-14T21:09:45.180514Z"
    },
    "tags": []
   },
   "outputs": [
    {
     "data": {
      "application/vnd.jupyter.widget-view+json": {
       "model_id": "2bdc9a754fe3441db0d4c9caaf670088",
       "version_major": 2,
       "version_minor": 0
      },
      "text/plain": [
       "VBox()"
      ]
     },
     "metadata": {},
     "output_type": "display_data"
    },
    {
     "name": "stdout",
     "output_type": "stream",
     "text": [
      "Starting Spark application\n"
     ]
    },
    {
     "data": {
      "text/html": [
       "<table>\n",
       "<tr><th>ID</th><th>YARN Application ID</th><th>Kind</th><th>State</th><th>Spark UI</th><th>Driver log</th><th>Current session?</th></tr><tr><td>6</td><td>application_1697312914837_0008</td><td>pyspark</td><td>idle</td><td><a target=\"_blank\" href=\"http://ip-172-31-7-24.us-east-2.compute.internal:20888/proxy/application_1697312914837_0008/\" >Link</a></td><td><a target=\"_blank\" href=\"http://ip-172-31-1-181.us-east-2.compute.internal:8042/node/containerlogs/container_1697312914837_0008_01_000001/livy\" >Link</a></td><td>✔</td></tr></table>"
      ],
      "text/plain": [
       "<IPython.core.display.HTML object>"
      ]
     },
     "metadata": {},
     "output_type": "display_data"
    },
    {
     "data": {
      "application/vnd.jupyter.widget-view+json": {
       "model_id": "",
       "version_major": 2,
       "version_minor": 0
      },
      "text/plain": [
       "FloatProgress(value=0.0, bar_style='info', description='Progress:', layout=Layout(height='25px', width='50%'),…"
      ]
     },
     "metadata": {},
     "output_type": "display_data"
    },
    {
     "name": "stdout",
     "output_type": "stream",
     "text": [
      "SparkSession available as 'spark'.\n"
     ]
    },
    {
     "data": {
      "application/vnd.jupyter.widget-view+json": {
       "model_id": "",
       "version_major": 2,
       "version_minor": 0
      },
      "text/plain": [
       "FloatProgress(value=0.0, bar_style='info', description='Progress:', layout=Layout(height='25px', width='50%'),…"
      ]
     },
     "metadata": {},
     "output_type": "display_data"
    }
   ],
   "source": [
    "# Start Spark Session"
   ]
  },
  {
   "cell_type": "code",
   "execution_count": 2,
   "id": "d3fdb45b",
   "metadata": {
    "execution": {
     "iopub.execute_input": "2023-10-14T21:10:46.227174Z",
     "iopub.status.busy": "2023-10-14T21:10:46.226943Z",
     "iopub.status.idle": "2023-10-14T21:10:47.005286Z",
     "shell.execute_reply": "2023-10-14T21:10:47.004568Z",
     "shell.execute_reply.started": "2023-10-14T21:10:46.227150Z"
    },
    "tags": []
   },
   "outputs": [
    {
     "data": {
      "application/vnd.jupyter.widget-view+json": {
       "model_id": "212f44e3ea5241b78d13c70d4a926eca",
       "version_major": 2,
       "version_minor": 0
      },
      "text/plain": [
       "VBox()"
      ]
     },
     "metadata": {},
     "output_type": "display_data"
    },
    {
     "data": {
      "application/vnd.jupyter.widget-view+json": {
       "model_id": "",
       "version_major": 2,
       "version_minor": 0
      },
      "text/plain": [
       "FloatProgress(value=0.0, bar_style='info', description='Progress:', layout=Layout(height='25px', width='50%'),…"
      ]
     },
     "metadata": {},
     "output_type": "display_data"
    }
   ],
   "source": [
    "# Spark SQL\n",
    "from pyspark.sql import SparkSession\n",
    "import pyspark.sql.functions as F\n",
    "from pyspark.sql.functions import (avg, col, concat, desc, lit, min, max, split,\n",
    "                                   udf, countDistinct, sum, count, isnan, when,\n",
    "                                   sort_array, asc)\n",
    "from pyspark.sql.window import Window\n",
    "from pyspark.sql.types import IntegerType, DoubleType\n",
    "\n",
    "# Spark ML\n",
    "from pyspark.ml import Pipeline\n",
    "from pyspark.ml.feature import MinMaxScaler, OneHotEncoder, StringIndexer, VectorAssembler, StandardScaler\n",
    "from pyspark.ml.classification import LogisticRegression, LinearSVC, RandomForestClassifier, GBTClassifier\n",
    "from pyspark.ml.tuning import CrossValidator, ParamGridBuilder\n",
    "from pyspark.ml.evaluation import MulticlassClassificationEvaluator\n",
    "from pyspark.mllib.evaluation import MulticlassMetrics\n",
    "\n",
    "# Python\n",
    "import numpy as np\n",
    "\n",
    "import warnings\n",
    "\n",
    "warnings.filterwarnings(\"ignore\")"
   ]
  },
  {
   "cell_type": "markdown",
   "id": "6ef5f79d",
   "metadata": {},
   "source": [
    "### Load 12GB full data from AWS S3"
   ]
  },
  {
   "cell_type": "code",
   "execution_count": 3,
   "id": "b77e077e",
   "metadata": {
    "execution": {
     "iopub.execute_input": "2023-10-14T21:10:49.144707Z",
     "iopub.status.busy": "2023-10-14T21:10:49.144488Z",
     "iopub.status.idle": "2023-10-14T21:11:32.571368Z",
     "shell.execute_reply": "2023-10-14T21:11:32.570776Z",
     "shell.execute_reply.started": "2023-10-14T21:10:49.144683Z"
    },
    "tags": []
   },
   "outputs": [
    {
     "data": {
      "application/vnd.jupyter.widget-view+json": {
       "model_id": "92532d7c70e34994a33ec6623d0820f8",
       "version_major": 2,
       "version_minor": 0
      },
      "text/plain": [
       "VBox()"
      ]
     },
     "metadata": {},
     "output_type": "display_data"
    },
    {
     "data": {
      "application/vnd.jupyter.widget-view+json": {
       "model_id": "",
       "version_major": 2,
       "version_minor": 0
      },
      "text/plain": [
       "FloatProgress(value=0.0, bar_style='info', description='Progress:', layout=Layout(height='25px', width='50%'),…"
      ]
     },
     "metadata": {},
     "output_type": "display_data"
    },
    {
     "name": "stdout",
     "output_type": "stream",
     "text": [
      "Row(artist='Popol Vuh', auth='Logged In', firstName='Shlok', gender='M', itemInSession=278, lastName='Johnson', length=524.32934, level='paid', location='Dallas-Fort Worth-Arlington, TX', method='PUT', page='NextSong', registration=1533734541000, sessionId=22683, song='Ich mache einen Spiegel - Dream Part 4', status=200, ts=1538352001000, userAgent='\"Mozilla/5.0 (Windows NT 6.1; WOW64) AppleWebKit/537.36 (KHTML, like Gecko) Chrome/36.0.1985.143 Safari/537.36\"', userId='1749042')"
     ]
    }
   ],
   "source": [
    "# Download java first# Create a SparkSession with the application name \"sparkify\".\n",
    "# SparkSession is the entry point for interacting with the Spark cluster.\n",
    "# It requires Java Runtime Environment (JRE) to run, as Spark is built using Scala and Java.\n",
    "\n",
    "## Create spark session\n",
    "spark = SparkSession \\\n",
    "    .builder \\\n",
    "    .appName(\"Sparkify\") \\\n",
    "    .getOrCreate()\n",
    "\n",
    "## Read in full sparkify dataset\n",
    "event_data = \"s3n://udacity-dsnd/sparkify/sparkify_event_data.json\"\n",
    "df = spark.read.json(event_data)\n",
    "df.head()"
   ]
  },
  {
   "cell_type": "code",
   "execution_count": 4,
   "id": "0e534781",
   "metadata": {
    "execution": {
     "iopub.execute_input": "2023-10-14T21:11:36.478342Z",
     "iopub.status.busy": "2023-10-14T21:11:36.478108Z",
     "iopub.status.idle": "2023-10-14T21:11:36.750548Z",
     "shell.execute_reply": "2023-10-14T21:11:36.749836Z",
     "shell.execute_reply.started": "2023-10-14T21:11:36.478315Z"
    },
    "tags": []
   },
   "outputs": [
    {
     "data": {
      "application/vnd.jupyter.widget-view+json": {
       "model_id": "ee45f4b1bc9e4c5fb1986a4898a96472",
       "version_major": 2,
       "version_minor": 0
      },
      "text/plain": [
       "VBox()"
      ]
     },
     "metadata": {},
     "output_type": "display_data"
    },
    {
     "data": {
      "application/vnd.jupyter.widget-view+json": {
       "model_id": "",
       "version_major": 2,
       "version_minor": 0
      },
      "text/plain": [
       "FloatProgress(value=0.0, bar_style='info', description='Progress:', layout=Layout(height='25px', width='50%'),…"
      ]
     },
     "metadata": {},
     "output_type": "display_data"
    },
    {
     "name": "stdout",
     "output_type": "stream",
     "text": [
      "root\n",
      " |-- artist: string (nullable = true)\n",
      " |-- auth: string (nullable = true)\n",
      " |-- firstName: string (nullable = true)\n",
      " |-- gender: string (nullable = true)\n",
      " |-- itemInSession: long (nullable = true)\n",
      " |-- lastName: string (nullable = true)\n",
      " |-- length: double (nullable = true)\n",
      " |-- level: string (nullable = true)\n",
      " |-- location: string (nullable = true)\n",
      " |-- method: string (nullable = true)\n",
      " |-- page: string (nullable = true)\n",
      " |-- registration: long (nullable = true)\n",
      " |-- sessionId: long (nullable = true)\n",
      " |-- song: string (nullable = true)\n",
      " |-- status: long (nullable = true)\n",
      " |-- ts: long (nullable = true)\n",
      " |-- userAgent: string (nullable = true)\n",
      " |-- userId: string (nullable = true)"
     ]
    }
   ],
   "source": [
    "df.printSchema()"
   ]
  },
  {
   "cell_type": "code",
   "execution_count": 5,
   "id": "b0218dce",
   "metadata": {
    "execution": {
     "iopub.execute_input": "2023-10-14T21:11:37.209511Z",
     "iopub.status.busy": "2023-10-14T21:11:37.209286Z",
     "iopub.status.idle": "2023-10-14T21:12:04.583174Z",
     "shell.execute_reply": "2023-10-14T21:12:04.570067Z",
     "shell.execute_reply.started": "2023-10-14T21:11:37.209486Z"
    },
    "tags": []
   },
   "outputs": [
    {
     "data": {
      "application/vnd.jupyter.widget-view+json": {
       "model_id": "321a26e57ba24b6caee7c8f2583796ab",
       "version_major": 2,
       "version_minor": 0
      },
      "text/plain": [
       "VBox()"
      ]
     },
     "metadata": {},
     "output_type": "display_data"
    },
    {
     "data": {
      "application/vnd.jupyter.widget-view+json": {
       "model_id": "",
       "version_major": 2,
       "version_minor": 0
      },
      "text/plain": [
       "FloatProgress(value=0.0, bar_style='info', description='Progress:', layout=Layout(height='25px', width='50%'),…"
      ]
     },
     "metadata": {},
     "output_type": "display_data"
    },
    {
     "name": "stdout",
     "output_type": "stream",
     "text": [
      "Total activity records: 26259199\n",
      "Total columns: 18"
     ]
    }
   ],
   "source": [
    "print('Total activity records:', df.count())\n",
    "print('Total columns:', len(df.columns))"
   ]
  },
  {
   "cell_type": "code",
   "execution_count": 6,
   "id": "98f087b1",
   "metadata": {
    "execution": {
     "iopub.execute_input": "2023-10-14T21:12:13.954629Z",
     "iopub.status.busy": "2023-10-14T21:12:13.954394Z",
     "iopub.status.idle": "2023-10-14T21:12:49.340670Z",
     "shell.execute_reply": "2023-10-14T21:12:49.340094Z",
     "shell.execute_reply.started": "2023-10-14T21:12:13.954604Z"
    },
    "tags": []
   },
   "outputs": [
    {
     "data": {
      "application/vnd.jupyter.widget-view+json": {
       "model_id": "e4064556b70f47c78ed28ab8337a60f9",
       "version_major": 2,
       "version_minor": 0
      },
      "text/plain": [
       "VBox()"
      ]
     },
     "metadata": {},
     "output_type": "display_data"
    },
    {
     "data": {
      "application/vnd.jupyter.widget-view+json": {
       "model_id": "",
       "version_major": 2,
       "version_minor": 0
      },
      "text/plain": [
       "FloatProgress(value=0.0, bar_style='info', description='Progress:', layout=Layout(height='25px', width='50%'),…"
      ]
     },
     "metadata": {},
     "output_type": "display_data"
    },
    {
     "name": "stdout",
     "output_type": "stream",
     "text": [
      "+----------+-------------+\n",
      "|      auth|count(userId)|\n",
      "+----------+-------------+\n",
      "|     Guest|            1|\n",
      "|Logged Out|            1|\n",
      "| Cancelled|         5003|\n",
      "| Logged In|        22277|\n",
      "+----------+-------------+"
     ]
    }
   ],
   "source": [
    "# Summarize `auth` (Login status of the user)\n",
    "df.groupby('auth').agg(F.countDistinct('userId')).show()"
   ]
  },
  {
   "cell_type": "markdown",
   "id": "922b1927",
   "metadata": {},
   "source": [
    "### Clean data"
   ]
  },
  {
   "cell_type": "code",
   "execution_count": 7,
   "id": "80434260-b8d1-4c40-adfa-323e8fdbbca8",
   "metadata": {
    "execution": {
     "iopub.execute_input": "2023-10-14T21:14:00.592728Z",
     "iopub.status.busy": "2023-10-14T21:14:00.592491Z",
     "iopub.status.idle": "2023-10-14T21:14:42.365588Z",
     "shell.execute_reply": "2023-10-14T21:14:42.364788Z",
     "shell.execute_reply.started": "2023-10-14T21:14:00.592702Z"
    },
    "tags": []
   },
   "outputs": [
    {
     "data": {
      "application/vnd.jupyter.widget-view+json": {
       "model_id": "9966724ec26849929cc3da252b20c6c6",
       "version_major": 2,
       "version_minor": 0
      },
      "text/plain": [
       "VBox()"
      ]
     },
     "metadata": {},
     "output_type": "display_data"
    },
    {
     "data": {
      "application/vnd.jupyter.widget-view+json": {
       "model_id": "",
       "version_major": 2,
       "version_minor": 0
      },
      "text/plain": [
       "FloatProgress(value=0.0, bar_style='info', description='Progress:', layout=Layout(height='25px', width='50%'),…"
      ]
     },
     "metadata": {},
     "output_type": "display_data"
    },
    {
     "name": "stdout",
     "output_type": "stream",
     "text": [
      "+---------+-------------+\n",
      "|     auth|count(userId)|\n",
      "+---------+-------------+\n",
      "|Cancelled|         5003|\n",
      "|Logged In|        22277|\n",
      "+---------+-------------+"
     ]
    }
   ],
   "source": [
    "# Filter out Guest and Logged Out to exclude guests\n",
    "df_clean = df.filter((col('auth') == 'Logged In') |\n",
    "                     (col('auth') == 'Cancelled'))\n",
    "# Exclude null user_id\n",
    "df_clean = df_clean.filter(df['userId'] != '')\n",
    "df_clean.groupby('auth').agg(F.countDistinct('userId')).show()"
   ]
  },
  {
   "cell_type": "code",
   "execution_count": 8,
   "id": "3eecd560-7b87-4694-a38b-5bbc25a2d65c",
   "metadata": {
    "execution": {
     "iopub.execute_input": "2023-10-14T21:14:45.294620Z",
     "iopub.status.busy": "2023-10-14T21:14:45.294392Z",
     "iopub.status.idle": "2023-10-14T21:14:45.563183Z",
     "shell.execute_reply": "2023-10-14T21:14:45.562623Z",
     "shell.execute_reply.started": "2023-10-14T21:14:45.294595Z"
    },
    "tags": []
   },
   "outputs": [
    {
     "data": {
      "application/vnd.jupyter.widget-view+json": {
       "model_id": "6b838608243f4caf9d2be0e30f237891",
       "version_major": 2,
       "version_minor": 0
      },
      "text/plain": [
       "VBox()"
      ]
     },
     "metadata": {},
     "output_type": "display_data"
    },
    {
     "data": {
      "application/vnd.jupyter.widget-view+json": {
       "model_id": "",
       "version_major": 2,
       "version_minor": 0
      },
      "text/plain": [
       "FloatProgress(value=0.0, bar_style='info', description='Progress:', layout=Layout(height='25px', width='50%'),…"
      ]
     },
     "metadata": {},
     "output_type": "display_data"
    },
    {
     "name": "stdout",
     "output_type": "stream",
     "text": [
      "0"
     ]
    }
   ],
   "source": [
    "# Check for nulls\n",
    "df_clean.filter(df_clean.userId == '').count()"
   ]
  },
  {
   "cell_type": "code",
   "execution_count": 9,
   "id": "9502674c-25e8-4bcb-be1c-349795276499",
   "metadata": {
    "execution": {
     "iopub.execute_input": "2023-10-14T21:14:46.321562Z",
     "iopub.status.busy": "2023-10-14T21:14:46.321343Z",
     "iopub.status.idle": "2023-10-14T21:14:46.590684Z",
     "shell.execute_reply": "2023-10-14T21:14:46.590046Z",
     "shell.execute_reply.started": "2023-10-14T21:14:46.321538Z"
    },
    "tags": []
   },
   "outputs": [
    {
     "data": {
      "application/vnd.jupyter.widget-view+json": {
       "model_id": "468e572a90414677a89c4e9c5d5711e8",
       "version_major": 2,
       "version_minor": 0
      },
      "text/plain": [
       "VBox()"
      ]
     },
     "metadata": {},
     "output_type": "display_data"
    },
    {
     "data": {
      "application/vnd.jupyter.widget-view+json": {
       "model_id": "",
       "version_major": 2,
       "version_minor": 0
      },
      "text/plain": [
       "FloatProgress(value=0.0, bar_style='info', description='Progress:', layout=Layout(height='25px', width='50%'),…"
      ]
     },
     "metadata": {},
     "output_type": "display_data"
    },
    {
     "name": "stdout",
     "output_type": "stream",
     "text": [
      "0"
     ]
    }
   ],
   "source": [
    "df_clean.filter(df_clean.sessionId == '').count()"
   ]
  },
  {
   "cell_type": "markdown",
   "id": "506aab98-8c87-4ac7-9818-2020851525e0",
   "metadata": {},
   "source": [
    "## Exploratory Data Analysis\n",
    "Define churn based on the `auth` (Login status of the user). During the data cleaning process, we noticed that the \"Cancelled\" status is likely related to customer churn. In the small dataset, the overall churn probability is 23%."
   ]
  },
  {
   "cell_type": "code",
   "execution_count": 10,
   "id": "5aaa1fd3-7460-4a13-b461-f6f827919015",
   "metadata": {
    "execution": {
     "iopub.execute_input": "2023-10-14T21:14:48.067021Z",
     "iopub.status.busy": "2023-10-14T21:14:48.066787Z",
     "iopub.status.idle": "2023-10-14T21:14:48.331698Z",
     "shell.execute_reply": "2023-10-14T21:14:48.330932Z",
     "shell.execute_reply.started": "2023-10-14T21:14:48.066995Z"
    },
    "tags": []
   },
   "outputs": [
    {
     "data": {
      "application/vnd.jupyter.widget-view+json": {
       "model_id": "d8d61b45f21e43f9a99781fb189ef0d4",
       "version_major": 2,
       "version_minor": 0
      },
      "text/plain": [
       "VBox()"
      ]
     },
     "metadata": {},
     "output_type": "display_data"
    },
    {
     "data": {
      "application/vnd.jupyter.widget-view+json": {
       "model_id": "",
       "version_major": 2,
       "version_minor": 0
      },
      "text/plain": [
       "FloatProgress(value=0.0, bar_style='info', description='Progress:', layout=Layout(height='25px', width='50%'),…"
      ]
     },
     "metadata": {},
     "output_type": "display_data"
    }
   ],
   "source": [
    "# Generate churn 1/0 as binary indicator `cancel` 1/0\n",
    "cancel = udf(lambda auth: 1 if auth == 'Cancelled' else 0, IntegerType())\n",
    "df_clean = df_clean.withColumn('cancel', cancel('auth'))"
   ]
  },
  {
   "cell_type": "code",
   "execution_count": 11,
   "id": "303b5332-67ae-4c9b-8ce8-e5bba064d0a6",
   "metadata": {
    "execution": {
     "iopub.execute_input": "2023-10-14T21:14:48.971131Z",
     "iopub.status.busy": "2023-10-14T21:14:48.970819Z",
     "iopub.status.idle": "2023-10-14T21:15:20.372698Z",
     "shell.execute_reply": "2023-10-14T21:15:20.372108Z",
     "shell.execute_reply.started": "2023-10-14T21:14:48.971093Z"
    },
    "tags": []
   },
   "outputs": [
    {
     "data": {
      "application/vnd.jupyter.widget-view+json": {
       "model_id": "8a6b92bbf50c47b3b8dbf0da7e48a0cf",
       "version_major": 2,
       "version_minor": 0
      },
      "text/plain": [
       "VBox()"
      ]
     },
     "metadata": {},
     "output_type": "display_data"
    },
    {
     "data": {
      "application/vnd.jupyter.widget-view+json": {
       "model_id": "",
       "version_major": 2,
       "version_minor": 0
      },
      "text/plain": [
       "FloatProgress(value=0.0, bar_style='info', description='Progress:', layout=Layout(height='25px', width='50%'),…"
      ]
     },
     "metadata": {},
     "output_type": "display_data"
    },
    {
     "name": "stdout",
     "output_type": "stream",
     "text": [
      "+--------------------+------+--------+\n",
      "|                page|method|   count|\n",
      "+--------------------+------+--------+\n",
      "|Cancellation Conf...|   GET|    5003|\n",
      "|            Settings|   GET|  147074|\n",
      "|               Error|   GET|   25048|\n",
      "|                Help|   GET|  129448|\n",
      "|                Home|   GET|  933124|\n",
      "|               About|   GET|   48377|\n",
      "|         Roll Advert|   GET|  385212|\n",
      "|             Upgrade|   GET|   50507|\n",
      "|           Downgrade|   GET|  184240|\n",
      "|              Logout|   PUT|  296005|\n",
      "|           Thumbs Up|   PUT| 1151465|\n",
      "|    Submit Downgrade|   PUT|    6494|\n",
      "|          Add Friend|   PUT|  381664|\n",
      "|      Submit Upgrade|   PUT|   15135|\n",
      "|              Cancel|   PUT|    5003|\n",
      "|       Save Settings|   PUT|   29516|\n",
      "|            NextSong|   PUT|20850272|\n",
      "|         Thumbs Down|   PUT|  239212|\n",
      "|     Add to Playlist|   PUT|  597921|\n",
      "+--------------------+------+--------+"
     ]
    }
   ],
   "source": [
    "pages = df_clean.groupby('page','method').count().sort('method')\n",
    "pages.show()"
   ]
  },
  {
   "cell_type": "markdown",
   "id": "eb09afff-e9f3-40bf-9163-19059d6ca5ab",
   "metadata": {
    "execution": {
     "iopub.execute_input": "2023-10-14T20:41:48.274024Z",
     "iopub.status.busy": "2023-10-14T20:41:48.273779Z",
     "iopub.status.idle": "2023-10-14T20:41:48.334051Z",
     "shell.execute_reply": "2023-10-14T20:41:48.333344Z",
     "shell.execute_reply.started": "2023-10-14T20:41:48.273999Z"
    },
    "tags": []
   },
   "source": [
    "## Feature Engineering"
   ]
  },
  {
   "cell_type": "code",
   "execution_count": 12,
   "id": "cbd4389f-2c8e-4daa-acc4-ec34ae416bd6",
   "metadata": {
    "execution": {
     "iopub.execute_input": "2023-10-14T21:15:26.026212Z",
     "iopub.status.busy": "2023-10-14T21:15:26.025974Z",
     "iopub.status.idle": "2023-10-14T21:15:26.112141Z",
     "shell.execute_reply": "2023-10-14T21:15:26.111290Z",
     "shell.execute_reply.started": "2023-10-14T21:15:26.026177Z"
    },
    "tags": []
   },
   "outputs": [
    {
     "data": {
      "application/vnd.jupyter.widget-view+json": {
       "model_id": "528b715a8bcf422fb4908e75dfd86dd7",
       "version_major": 2,
       "version_minor": 0
      },
      "text/plain": [
       "VBox()"
      ]
     },
     "metadata": {},
     "output_type": "display_data"
    },
    {
     "data": {
      "application/vnd.jupyter.widget-view+json": {
       "model_id": "",
       "version_major": 2,
       "version_minor": 0
      },
      "text/plain": [
       "FloatProgress(value=0.0, bar_style='info', description='Progress:', layout=Layout(height='25px', width='50%'),…"
      ]
     },
     "metadata": {},
     "output_type": "display_data"
    }
   ],
   "source": [
    "df_feat = df_clean"
   ]
  },
  {
   "cell_type": "code",
   "execution_count": 13,
   "id": "c03bc5c5-f988-4acc-a947-e662e19a9107",
   "metadata": {
    "execution": {
     "iopub.execute_input": "2023-10-14T21:15:26.576034Z",
     "iopub.status.busy": "2023-10-14T21:15:26.575795Z",
     "iopub.status.idle": "2023-10-14T21:16:01.983852Z",
     "shell.execute_reply": "2023-10-14T21:16:01.983146Z",
     "shell.execute_reply.started": "2023-10-14T21:15:26.576006Z"
    },
    "tags": []
   },
   "outputs": [
    {
     "data": {
      "application/vnd.jupyter.widget-view+json": {
       "model_id": "9debe252fd5b4191bd501bae65dda2c2",
       "version_major": 2,
       "version_minor": 0
      },
      "text/plain": [
       "VBox()"
      ]
     },
     "metadata": {},
     "output_type": "display_data"
    },
    {
     "data": {
      "application/vnd.jupyter.widget-view+json": {
       "model_id": "",
       "version_major": 2,
       "version_minor": 0
      },
      "text/plain": [
       "FloatProgress(value=0.0, bar_style='info', description='Progress:', layout=Layout(height='25px', width='50%'),…"
      ]
     },
     "metadata": {},
     "output_type": "display_data"
    },
    {
     "name": "stdout",
     "output_type": "stream",
     "text": [
      "+-------+-----------------+\n",
      "|summary|         user_age|\n",
      "+-------+-----------------+\n",
      "|  count|         25480720|\n",
      "|   mean| 65.7917132639894|\n",
      "| stddev|41.19433609714087|\n",
      "|    min|              -23|\n",
      "|    max|              411|\n",
      "+-------+-----------------+"
     ]
    }
   ],
   "source": [
    "# Calculate user age since registration to the activity date\n",
    "df_feat = df_feat.withColumn(\"date\", F.to_date(F.from_unixtime(col('ts')/lit(1000))))\n",
    "df_feat = df_feat.withColumn('date_register', F.to_date(F.from_unixtime(col('registration')/lit(1000))))\n",
    "df_feat = df_feat.withColumn('user_age', F.datediff(col('date'), col('date_register')))\n",
    "df_feat.describe('user_age').show()"
   ]
  },
  {
   "cell_type": "code",
   "execution_count": 14,
   "id": "522d07b8-0d58-49ac-92dc-1733c8522632",
   "metadata": {
    "execution": {
     "iopub.execute_input": "2023-10-14T21:16:22.663607Z",
     "iopub.status.busy": "2023-10-14T21:16:22.663359Z",
     "iopub.status.idle": "2023-10-14T21:16:22.923189Z",
     "shell.execute_reply": "2023-10-14T21:16:22.922573Z",
     "shell.execute_reply.started": "2023-10-14T21:16:22.663580Z"
    },
    "tags": []
   },
   "outputs": [
    {
     "data": {
      "application/vnd.jupyter.widget-view+json": {
       "model_id": "e5f0d048f0854762b332de5004878795",
       "version_major": 2,
       "version_minor": 0
      },
      "text/plain": [
       "VBox()"
      ]
     },
     "metadata": {},
     "output_type": "display_data"
    },
    {
     "data": {
      "application/vnd.jupyter.widget-view+json": {
       "model_id": "",
       "version_major": 2,
       "version_minor": 0
      },
      "text/plain": [
       "FloatProgress(value=0.0, bar_style='info', description='Progress:', layout=Layout(height='25px', width='50%'),…"
      ]
     },
     "metadata": {},
     "output_type": "display_data"
    }
   ],
   "source": [
    "# Get proactive user interactions except for playing songs\n",
    "inter = ['Thumbs Up', 'Thumbs Down', 'Add to Playlist', 'Add Friend']\n",
    "get_interactions = udf(lambda x: 1 if x in inter else 0, IntegerType())\n",
    "\n",
    "# Get negative feedback from user\n",
    "thumbs_down = udf(lambda x: 1 if x == 'Thumbs Down' else 0, IntegerType())\n",
    "\n",
    "df_feat = df_feat.withColumn('interactions', get_interactions('page'))\n",
    "df_feat = df_feat.withColumn('thumbs_down', thumbs_down('page'))"
   ]
  },
  {
   "cell_type": "code",
   "execution_count": 15,
   "id": "58dc10f6-9918-4e42-b4c8-e369344d3241",
   "metadata": {
    "execution": {
     "iopub.execute_input": "2023-10-14T21:16:23.887603Z",
     "iopub.status.busy": "2023-10-14T21:16:23.887255Z",
     "iopub.status.idle": "2023-10-14T21:16:24.180685Z",
     "shell.execute_reply": "2023-10-14T21:16:24.180077Z",
     "shell.execute_reply.started": "2023-10-14T21:16:23.887557Z"
    },
    "tags": []
   },
   "outputs": [
    {
     "data": {
      "application/vnd.jupyter.widget-view+json": {
       "model_id": "bdcd8e453bcd4932840b185754fde2af",
       "version_major": 2,
       "version_minor": 0
      },
      "text/plain": [
       "VBox()"
      ]
     },
     "metadata": {},
     "output_type": "display_data"
    },
    {
     "data": {
      "application/vnd.jupyter.widget-view+json": {
       "model_id": "",
       "version_major": 2,
       "version_minor": 0
      },
      "text/plain": [
       "FloatProgress(value=0.0, bar_style='info', description='Progress:', layout=Layout(height='25px', width='50%'),…"
      ]
     },
     "metadata": {},
     "output_type": "display_data"
    }
   ],
   "source": [
    "# Create `downgrades` to show if the user ever downgraded\n",
    "downgraded = udf(lambda x: 1 if x == 'Submit Downgrade' else 0, IntegerType())\n",
    "df_feat = df_feat.withColumn('downgraded', downgraded('page'))\n",
    "\n",
    "# Create `paid` to show if the user ever be 'paid' user\n",
    "paid = udf(lambda x: 1 if x == 'paid' else 0, IntegerType())\n",
    "df_feat = df_feat.withColumn('paid', paid('level'))\n",
    "\n",
    "# Create `songs` feature to calculate number of songs from users\n",
    "NextSong = udf(lambda x: 1 if x == 'NextSong' else 0, IntegerType())\n",
    "df_feat = df_feat.withColumn('songs', NextSong('page'))\n",
    "\n",
    "# Convert gender to 1/0. 1 = Female\n",
    "female = udf(lambda x: 1 if x == 'F' else 0, IntegerType())\n",
    "df_feat = df_feat.withColumn('female', female('gender'))"
   ]
  },
  {
   "cell_type": "code",
   "execution_count": 16,
   "id": "67779af7-c8cd-4653-8ed0-c40dd848fcd5",
   "metadata": {
    "execution": {
     "iopub.execute_input": "2023-10-14T21:16:26.291169Z",
     "iopub.status.busy": "2023-10-14T21:16:26.290939Z",
     "iopub.status.idle": "2023-10-14T21:16:26.564646Z",
     "shell.execute_reply": "2023-10-14T21:16:26.564048Z",
     "shell.execute_reply.started": "2023-10-14T21:16:26.291143Z"
    },
    "tags": []
   },
   "outputs": [
    {
     "data": {
      "application/vnd.jupyter.widget-view+json": {
       "model_id": "8e16a53067d946a39e6f192d4ce98c75",
       "version_major": 2,
       "version_minor": 0
      },
      "text/plain": [
       "VBox()"
      ]
     },
     "metadata": {},
     "output_type": "display_data"
    },
    {
     "data": {
      "application/vnd.jupyter.widget-view+json": {
       "model_id": "",
       "version_major": 2,
       "version_minor": 0
      },
      "text/plain": [
       "FloatProgress(value=0.0, bar_style='info', description='Progress:', layout=Layout(height='25px', width='50%'),…"
      ]
     },
     "metadata": {},
     "output_type": "display_data"
    }
   ],
   "source": [
    "user_dims = df_feat.groupby('userId','female','date_register').agg(\\\n",
    "                                                          max('user_age').alias('user_age'),\\\n",
    "                                                          max('paid').alias('paid_user'),\\\n",
    "                                                          max('downgraded').alias('downgraded_user'),\\\n",
    "                                                          max('cancel').alias('canceled'))"
   ]
  },
  {
   "cell_type": "code",
   "execution_count": 17,
   "id": "2a2a9f6b-13fd-41d0-9891-a3a4c4dedc76",
   "metadata": {
    "execution": {
     "iopub.execute_input": "2023-10-14T21:16:26.985777Z",
     "iopub.status.busy": "2023-10-14T21:16:26.985497Z",
     "iopub.status.idle": "2023-10-14T21:17:34.464339Z",
     "shell.execute_reply": "2023-10-14T21:17:34.463764Z",
     "shell.execute_reply.started": "2023-10-14T21:16:26.985740Z"
    },
    "tags": []
   },
   "outputs": [
    {
     "data": {
      "application/vnd.jupyter.widget-view+json": {
       "model_id": "044e3131fa6b4637976d4e0442622e38",
       "version_major": 2,
       "version_minor": 0
      },
      "text/plain": [
       "VBox()"
      ]
     },
     "metadata": {},
     "output_type": "display_data"
    },
    {
     "data": {
      "application/vnd.jupyter.widget-view+json": {
       "model_id": "",
       "version_major": 2,
       "version_minor": 0
      },
      "text/plain": [
       "FloatProgress(value=0.0, bar_style='info', description='Progress:', layout=Layout(height='25px', width='50%'),…"
      ]
     },
     "metadata": {},
     "output_type": "display_data"
    },
    {
     "name": "stdout",
     "output_type": "stream",
     "text": [
      "[Row(userId='1736302', female=1, date_register=datetime.date(2018, 6, 18), user_age=162, paid_user=1, downgraded_user=0, canceled=0)]"
     ]
    }
   ],
   "source": [
    "# Inspect Dimensions\n",
    "user_dims.take(1)"
   ]
  },
  {
   "cell_type": "code",
   "execution_count": 18,
   "id": "5a90b5e2-4d0b-4916-888e-7ca85874941f",
   "metadata": {
    "execution": {
     "iopub.execute_input": "2023-10-14T21:18:49.634746Z",
     "iopub.status.busy": "2023-10-14T21:18:49.634514Z",
     "iopub.status.idle": "2023-10-14T21:18:49.904987Z",
     "shell.execute_reply": "2023-10-14T21:18:49.904405Z",
     "shell.execute_reply.started": "2023-10-14T21:18:49.634721Z"
    },
    "tags": []
   },
   "outputs": [
    {
     "data": {
      "application/vnd.jupyter.widget-view+json": {
       "model_id": "8d9d6f31b48e42bca8abd304cb725c65",
       "version_major": 2,
       "version_minor": 0
      },
      "text/plain": [
       "VBox()"
      ]
     },
     "metadata": {},
     "output_type": "display_data"
    },
    {
     "data": {
      "application/vnd.jupyter.widget-view+json": {
       "model_id": "",
       "version_major": 2,
       "version_minor": 0
      },
      "text/plain": [
       "FloatProgress(value=0.0, bar_style='info', description='Progress:', layout=Layout(height='25px', width='50%'),…"
      ]
     },
     "metadata": {},
     "output_type": "display_data"
    }
   ],
   "source": [
    "# Get the aggregates measures by userId & sessionId level\n",
    "measures = df_feat.groupby('userId','sessionId').agg(\\\n",
    "                                                      min('date').alias('start_date'),\\\n",
    "                                                      max('date').alias('end_date'),\\\n",
    "                                                      sum('interactions').alias('interactions'),\\\n",
    "                                                      sum('thumbs_down').alias('thumbs_down'),\\\n",
    "                                                      sum('songs').alias('songs'),\\\n",
    "                                                      sum('length').alias('length'),\\\n",
    "                                                      countDistinct('artist').alias('c_artist'))"
   ]
  },
  {
   "cell_type": "code",
   "execution_count": 19,
   "id": "0726c364-ae50-419e-9cd8-5e3a3bca066e",
   "metadata": {
    "execution": {
     "iopub.execute_input": "2023-10-14T21:18:50.707092Z",
     "iopub.status.busy": "2023-10-14T21:18:50.706870Z",
     "iopub.status.idle": "2023-10-14T21:18:51.472345Z",
     "shell.execute_reply": "2023-10-14T21:18:51.471788Z",
     "shell.execute_reply.started": "2023-10-14T21:18:50.707066Z"
    },
    "tags": []
   },
   "outputs": [
    {
     "data": {
      "application/vnd.jupyter.widget-view+json": {
       "model_id": "9d76e7cdf8f34a6c873e9f80cda71b2a",
       "version_major": 2,
       "version_minor": 0
      },
      "text/plain": [
       "VBox()"
      ]
     },
     "metadata": {},
     "output_type": "display_data"
    },
    {
     "data": {
      "application/vnd.jupyter.widget-view+json": {
       "model_id": "",
       "version_major": 2,
       "version_minor": 0
      },
      "text/plain": [
       "FloatProgress(value=0.0, bar_style='info', description='Progress:', layout=Layout(height='25px', width='50%'),…"
      ]
     },
     "metadata": {},
     "output_type": "display_data"
    }
   ],
   "source": [
    "# Get the date gap between sessions\n",
    "# Get the aggregates measures by userId level\n",
    "measures.createOrReplaceTempView(\"measures_temp\")\n",
    "measures_agg = spark.sql(\n",
    "\"\"\"\n",
    "    SELECT\n",
    "        userId AS userId,\n",
    "        COUNT(sessionId) AS total_session,\n",
    "        AVG(interactions) AS interactions,\n",
    "        AVG(thumbs_down) AS thumbs_down,\n",
    "        AVG(songs) AS songs,\n",
    "        AVG(length) AS length,\n",
    "        AVG(c_artist) AS artists,\n",
    "        AVG(session_gap) AS session_gap\n",
    "    FROM (\n",
    "        SELECT\n",
    "            *,\n",
    "            LAG(end_date) OVER (PARTITION BY userId ORDER BY start_date) AS prev_end_date,\n",
    "            DATEDIFF(start_date, LAG(end_date) OVER (PARTITION BY userId ORDER BY start_date)) AS session_gap\n",
    "        FROM\n",
    "            measures_temp\n",
    "    ) AS temp\n",
    "    GROUP BY userId\n",
    "\"\"\")\n"
   ]
  },
  {
   "cell_type": "code",
   "execution_count": 20,
   "id": "b9cd3eba-317c-4d2f-ba34-10a0b6823216",
   "metadata": {
    "execution": {
     "iopub.execute_input": "2023-10-14T21:18:56.122211Z",
     "iopub.status.busy": "2023-10-14T21:18:56.121984Z",
     "iopub.status.idle": "2023-10-14T21:20:15.629754Z",
     "shell.execute_reply": "2023-10-14T21:20:15.628970Z",
     "shell.execute_reply.started": "2023-10-14T21:18:56.122186Z"
    },
    "tags": []
   },
   "outputs": [
    {
     "data": {
      "application/vnd.jupyter.widget-view+json": {
       "model_id": "7c3469ab760a4706a57d2afdf23a069f",
       "version_major": 2,
       "version_minor": 0
      },
      "text/plain": [
       "VBox()"
      ]
     },
     "metadata": {},
     "output_type": "display_data"
    },
    {
     "data": {
      "application/vnd.jupyter.widget-view+json": {
       "model_id": "",
       "version_major": 2,
       "version_minor": 0
      },
      "text/plain": [
       "FloatProgress(value=0.0, bar_style='info', description='Progress:', layout=Layout(height='25px', width='50%'),…"
      ]
     },
     "metadata": {},
     "output_type": "display_data"
    },
    {
     "name": "stdout",
     "output_type": "stream",
     "text": [
      "[Row(userId='1001393', total_session=7, interactions=11.142857142857142, thumbs_down=0.8571428571428571, songs=70.57142857142857, length=17726.613365714285, artists=68.14285714285714, session_gap=9.5)]"
     ]
    }
   ],
   "source": [
    "# Inspect measures\n",
    "measures_agg.take(1)"
   ]
  },
  {
   "cell_type": "code",
   "execution_count": 21,
   "id": "fc589364-5770-41f1-ad64-cf13655a17e4",
   "metadata": {
    "execution": {
     "iopub.execute_input": "2023-10-14T21:20:19.312206Z",
     "iopub.status.busy": "2023-10-14T21:20:19.311976Z",
     "iopub.status.idle": "2023-10-14T21:21:40.822986Z",
     "shell.execute_reply": "2023-10-14T21:21:40.822232Z",
     "shell.execute_reply.started": "2023-10-14T21:20:19.312182Z"
    },
    "tags": []
   },
   "outputs": [
    {
     "data": {
      "application/vnd.jupyter.widget-view+json": {
       "model_id": "f63c0b064dc7465590f176d13ce58077",
       "version_major": 2,
       "version_minor": 0
      },
      "text/plain": [
       "VBox()"
      ]
     },
     "metadata": {},
     "output_type": "display_data"
    },
    {
     "data": {
      "application/vnd.jupyter.widget-view+json": {
       "model_id": "",
       "version_major": 2,
       "version_minor": 0
      },
      "text/plain": [
       "FloatProgress(value=0.0, bar_style='info', description='Progress:', layout=Layout(height='25px', width='50%'),…"
      ]
     },
     "metadata": {},
     "output_type": "display_data"
    },
    {
     "name": "stdout",
     "output_type": "stream",
     "text": [
      "user_dims:  22277  measure_agg:  22277"
     ]
    }
   ],
   "source": [
    "# Inspect user_dim and measure shape\n",
    "print('user_dims: ', user_dims.count(),' measure_agg: ', measures_agg.count())"
   ]
  },
  {
   "cell_type": "code",
   "execution_count": 22,
   "id": "72a18aae-c442-46f1-8cd6-b3260b98fe16",
   "metadata": {
    "execution": {
     "iopub.execute_input": "2023-10-14T21:23:18.330946Z",
     "iopub.status.busy": "2023-10-14T21:23:18.330692Z",
     "iopub.status.idle": "2023-10-14T21:23:18.593097Z",
     "shell.execute_reply": "2023-10-14T21:23:18.592523Z",
     "shell.execute_reply.started": "2023-10-14T21:23:18.330905Z"
    },
    "tags": []
   },
   "outputs": [
    {
     "data": {
      "application/vnd.jupyter.widget-view+json": {
       "model_id": "030cfe8e09654d048f4500c40b91c89c",
       "version_major": 2,
       "version_minor": 0
      },
      "text/plain": [
       "VBox()"
      ]
     },
     "metadata": {},
     "output_type": "display_data"
    },
    {
     "data": {
      "application/vnd.jupyter.widget-view+json": {
       "model_id": "",
       "version_major": 2,
       "version_minor": 0
      },
      "text/plain": [
       "FloatProgress(value=0.0, bar_style='info', description='Progress:', layout=Layout(height='25px', width='50%'),…"
      ]
     },
     "metadata": {},
     "output_type": "display_data"
    }
   ],
   "source": [
    "# Join dims and measures_agg\n",
    "df_model = user_dims.join(measures_agg, on = 'userId')"
   ]
  },
  {
   "cell_type": "markdown",
   "id": "5e634f1a-47e6-40c7-a6c7-06327545d57b",
   "metadata": {},
   "source": [
    "## Modeling"
   ]
  },
  {
   "cell_type": "code",
   "execution_count": 23,
   "id": "5b6efc9e-2ef8-4f0b-ba0a-76c4ba90c22e",
   "metadata": {
    "execution": {
     "iopub.execute_input": "2023-10-14T21:23:20.222080Z",
     "iopub.status.busy": "2023-10-14T21:23:20.221849Z",
     "iopub.status.idle": "2023-10-14T21:23:20.288415Z",
     "shell.execute_reply": "2023-10-14T21:23:20.287654Z",
     "shell.execute_reply.started": "2023-10-14T21:23:20.222055Z"
    },
    "tags": []
   },
   "outputs": [
    {
     "data": {
      "application/vnd.jupyter.widget-view+json": {
       "model_id": "a168ab8c16cb4f4f830a5002f17e812b",
       "version_major": 2,
       "version_minor": 0
      },
      "text/plain": [
       "VBox()"
      ]
     },
     "metadata": {},
     "output_type": "display_data"
    },
    {
     "data": {
      "application/vnd.jupyter.widget-view+json": {
       "model_id": "",
       "version_major": 2,
       "version_minor": 0
      },
      "text/plain": [
       "FloatProgress(value=0.0, bar_style='info', description='Progress:', layout=Layout(height='25px', width='50%'),…"
      ]
     },
     "metadata": {},
     "output_type": "display_data"
    },
    {
     "name": "stdout",
     "output_type": "stream",
     "text": [
      "root\n",
      " |-- userId: string (nullable = true)\n",
      " |-- female: integer (nullable = true)\n",
      " |-- date_register: date (nullable = true)\n",
      " |-- user_age: integer (nullable = true)\n",
      " |-- paid_user: integer (nullable = true)\n",
      " |-- downgraded_user: integer (nullable = true)\n",
      " |-- canceled: integer (nullable = true)\n",
      " |-- total_session: long (nullable = false)\n",
      " |-- interactions: double (nullable = true)\n",
      " |-- thumbs_down: double (nullable = true)\n",
      " |-- songs: double (nullable = true)\n",
      " |-- length: double (nullable = true)\n",
      " |-- artists: double (nullable = true)\n",
      " |-- session_gap: double (nullable = true)"
     ]
    }
   ],
   "source": [
    "df_model.printSchema()"
   ]
  },
  {
   "cell_type": "code",
   "execution_count": 24,
   "id": "2c270941-5ad2-4c65-84dc-cff50fc41ec5",
   "metadata": {
    "execution": {
     "iopub.execute_input": "2023-10-14T21:23:22.496777Z",
     "iopub.status.busy": "2023-10-14T21:23:22.496551Z",
     "iopub.status.idle": "2023-10-14T21:23:23.278945Z",
     "shell.execute_reply": "2023-10-14T21:23:23.278379Z",
     "shell.execute_reply.started": "2023-10-14T21:23:22.496752Z"
    },
    "tags": []
   },
   "outputs": [
    {
     "data": {
      "application/vnd.jupyter.widget-view+json": {
       "model_id": "3ac626b6036041588a9562b8d01ec6d4",
       "version_major": 2,
       "version_minor": 0
      },
      "text/plain": [
       "VBox()"
      ]
     },
     "metadata": {},
     "output_type": "display_data"
    },
    {
     "data": {
      "application/vnd.jupyter.widget-view+json": {
       "model_id": "",
       "version_major": 2,
       "version_minor": 0
      },
      "text/plain": [
       "FloatProgress(value=0.0, bar_style='info', description='Progress:', layout=Layout(height='25px', width='50%'),…"
      ]
     },
     "metadata": {},
     "output_type": "display_data"
    }
   ],
   "source": [
    "# Assemble num Features \n",
    "assembler = VectorAssembler(inputCols=['female','user_age','paid_user',\\\n",
    "                                       'downgraded_user','total_session', 'interactions',\\\n",
    "                                      'thumbs_down','length','session_gap'],\\\n",
    "                            outputCol='NumFeatures',handleInvalid = 'skip')\n",
    "data = assembler.transform(df_model)\n",
    "\n",
    "# Use 'canceled' as model prediction label\n",
    "data = data.withColumnRenamed('canceled','label')"
   ]
  },
  {
   "cell_type": "code",
   "execution_count": 39,
   "id": "c85329d9-e662-4385-8ac5-66605e0ee482",
   "metadata": {
    "execution": {
     "iopub.execute_input": "2023-10-14T22:19:28.005530Z",
     "iopub.status.busy": "2023-10-14T22:19:28.005289Z",
     "iopub.status.idle": "2023-10-14T22:23:16.386198Z",
     "shell.execute_reply": "2023-10-14T22:23:16.385523Z",
     "shell.execute_reply.started": "2023-10-14T22:19:28.005505Z"
    },
    "tags": []
   },
   "outputs": [
    {
     "data": {
      "application/vnd.jupyter.widget-view+json": {
       "model_id": "439d0e479f604f3bbb290610185f4664",
       "version_major": 2,
       "version_minor": 0
      },
      "text/plain": [
       "VBox()"
      ]
     },
     "metadata": {},
     "output_type": "display_data"
    },
    {
     "data": {
      "application/vnd.jupyter.widget-view+json": {
       "model_id": "",
       "version_major": 2,
       "version_minor": 0
      },
      "text/plain": [
       "FloatProgress(value=0.0, bar_style='info', description='Progress:', layout=Layout(height='25px', width='50%'),…"
      ]
     },
     "metadata": {},
     "output_type": "display_data"
    }
   ],
   "source": [
    "# Get weighted col (solve unbalanced problem)\n",
    "balancingRatio = data.filter(col('label') == 1).count() / data.count()\n",
    "calculateWeights = udf(lambda x: 1 * balancingRatio if x == 0 else (1 * (1.0 - balancingRatio)), DoubleType())\n",
    "\n",
    "data = data.withColumn(\"classWeightCol\", calculateWeights('label'))"
   ]
  },
  {
   "cell_type": "code",
   "execution_count": 40,
   "id": "835cbdf6-593a-4269-aefc-dcb25f74889c",
   "metadata": {
    "execution": {
     "iopub.execute_input": "2023-10-14T22:25:37.343633Z",
     "iopub.status.busy": "2023-10-14T22:25:37.343387Z",
     "iopub.status.idle": "2023-10-14T22:25:37.605839Z",
     "shell.execute_reply": "2023-10-14T22:25:37.605202Z",
     "shell.execute_reply.started": "2023-10-14T22:25:37.343606Z"
    },
    "tags": []
   },
   "outputs": [
    {
     "data": {
      "application/vnd.jupyter.widget-view+json": {
       "model_id": "b63199428ea54e299e9e3d7d816e9622",
       "version_major": 2,
       "version_minor": 0
      },
      "text/plain": [
       "VBox()"
      ]
     },
     "metadata": {},
     "output_type": "display_data"
    },
    {
     "data": {
      "application/vnd.jupyter.widget-view+json": {
       "model_id": "",
       "version_major": 2,
       "version_minor": 0
      },
      "text/plain": [
       "FloatProgress(value=0.0, bar_style='info', description='Progress:', layout=Layout(height='25px', width='50%'),…"
      ]
     },
     "metadata": {},
     "output_type": "display_data"
    }
   ],
   "source": [
    "# Split train/test data\n",
    "test, validation = data.randomSplit([0.8, 0.2], seed=42)"
   ]
  },
  {
   "cell_type": "code",
   "execution_count": 30,
   "id": "dada5525-9f40-4eb9-9673-9fbd807e6e41",
   "metadata": {
    "execution": {
     "iopub.execute_input": "2023-10-14T21:29:41.255907Z",
     "iopub.status.busy": "2023-10-14T21:29:41.255663Z",
     "iopub.status.idle": "2023-10-14T21:29:41.511826Z",
     "shell.execute_reply": "2023-10-14T21:29:41.511263Z",
     "shell.execute_reply.started": "2023-10-14T21:29:41.255881Z"
    },
    "tags": []
   },
   "outputs": [
    {
     "data": {
      "application/vnd.jupyter.widget-view+json": {
       "model_id": "4351f4ee7684446c925b6f4b2b1ab204",
       "version_major": 2,
       "version_minor": 0
      },
      "text/plain": [
       "VBox()"
      ]
     },
     "metadata": {},
     "output_type": "display_data"
    },
    {
     "data": {
      "application/vnd.jupyter.widget-view+json": {
       "model_id": "",
       "version_major": 2,
       "version_minor": 0
      },
      "text/plain": [
       "FloatProgress(value=0.0, bar_style='info', description='Progress:', layout=Layout(height='25px', width='50%'),…"
      ]
     },
     "metadata": {},
     "output_type": "display_data"
    }
   ],
   "source": [
    "# Standard Scaler\n",
    "standardscaler = StandardScaler(inputCol=\"NumFeatures\", outputCol=\"features\", withMean=True, withStd=True)\n"
   ]
  },
  {
   "cell_type": "code",
   "execution_count": 27,
   "id": "002db112-e92c-4745-a377-9a8c07ef240a",
   "metadata": {
    "execution": {
     "iopub.execute_input": "2023-10-14T21:23:54.444718Z",
     "iopub.status.busy": "2023-10-14T21:23:54.444491Z",
     "iopub.status.idle": "2023-10-14T21:23:54.503679Z",
     "shell.execute_reply": "2023-10-14T21:23:54.503117Z",
     "shell.execute_reply.started": "2023-10-14T21:23:54.444692Z"
    },
    "tags": []
   },
   "outputs": [
    {
     "data": {
      "application/vnd.jupyter.widget-view+json": {
       "model_id": "12a2c87c0e4a40afbb0a3fabe5a5b8f0",
       "version_major": 2,
       "version_minor": 0
      },
      "text/plain": [
       "VBox()"
      ]
     },
     "metadata": {},
     "output_type": "display_data"
    },
    {
     "data": {
      "application/vnd.jupyter.widget-view+json": {
       "model_id": "",
       "version_major": 2,
       "version_minor": 0
      },
      "text/plain": [
       "FloatProgress(value=0.0, bar_style='info', description='Progress:', layout=Layout(height='25px', width='50%'),…"
      ]
     },
     "metadata": {},
     "output_type": "display_data"
    }
   ],
   "source": [
    "def fit_model(model, paramGrid = None):\n",
    "    \"\"\"\n",
    "    Input: model, paramgrid (optional)\n",
    "    Output: fitted model, prediction on validation set\n",
    "    \"\"\"\n",
    "    pipeline = Pipeline(stages=[standardscaler, model])\n",
    "    \n",
    "    if paramGrid != None:\n",
    "        crossval = CrossValidator(estimator=pipeline,\n",
    "                          estimatorParamMaps=paramGrid,\n",
    "                          evaluator=MulticlassClassificationEvaluator(),\n",
    "                          numFolds=3)\n",
    "        fitmodel = crossval.fit(test)\n",
    "    else:\n",
    "        fitmodel = pipeline.fit(test)\n",
    "    \n",
    "    results = fitmodel.transform(validation)\n",
    "    \n",
    "    return fitmodel, results"
   ]
  },
  {
   "cell_type": "code",
   "execution_count": 28,
   "id": "ad0bc670-22f6-4643-ac52-24fec85c2e86",
   "metadata": {
    "execution": {
     "iopub.execute_input": "2023-10-14T21:23:56.363716Z",
     "iopub.status.busy": "2023-10-14T21:23:56.363491Z",
     "iopub.status.idle": "2023-10-14T21:23:56.430170Z",
     "shell.execute_reply": "2023-10-14T21:23:56.429616Z",
     "shell.execute_reply.started": "2023-10-14T21:23:56.363691Z"
    },
    "tags": []
   },
   "outputs": [
    {
     "data": {
      "application/vnd.jupyter.widget-view+json": {
       "model_id": "ed5cd9e726ca44b6baad1cca4f9c69b3",
       "version_major": 2,
       "version_minor": 0
      },
      "text/plain": [
       "VBox()"
      ]
     },
     "metadata": {},
     "output_type": "display_data"
    },
    {
     "data": {
      "application/vnd.jupyter.widget-view+json": {
       "model_id": "",
       "version_major": 2,
       "version_minor": 0
      },
      "text/plain": [
       "FloatProgress(value=0.0, bar_style='info', description='Progress:', layout=Layout(height='25px', width='50%'),…"
      ]
     },
     "metadata": {},
     "output_type": "display_data"
    }
   ],
   "source": [
    "# Evaluate the model on validation set\n",
    "def val_evaluation(results):\n",
    "    \"\"\"\n",
    "    Input: prediction results\n",
    "    Output: accuracy, precision and recall score\n",
    "    \"\"\"\n",
    "    predictionAndLabels = results.select(['prediction', 'label']\\\n",
    "                                      ).withColumn('label', col('label').cast(DoubleType())).rdd\n",
    "\n",
    "    metrics = MulticlassMetrics(predictionAndLabels) # create confusion matrix to calculate evaluation metrics\n",
    "    cm=metrics.confusionMatrix().toArray() # convert confusion matrix to numpy array\n",
    "    \n",
    "    # accuracy: (TP+TN)/Total Predictions\n",
    "    # precision: TP/(TP + FP)\n",
    "    # recall: TP/(TP + FN)\n",
    "    # f1 score: 2*(Recall * Precision) / (Recall + Precision)\n",
    "    accuracy=(cm[0][0]+cm[1][1])/cm.sum()\n",
    "    precision=(cm[1][1])/(cm[0][1]+cm[1][1])\n",
    "    recall=(cm[1][1])/(cm[1][0]+cm[1][1])\n",
    "    f1 = MulticlassClassificationEvaluator().evaluate(results)\n",
    "\n",
    "    return(round(f1,2), round(accuracy,2),round(precision,2),round(recall,2))"
   ]
  },
  {
   "cell_type": "markdown",
   "id": "86fdbcd7-b675-42e6-ae84-358d730e7b71",
   "metadata": {},
   "source": [
    "### Random Forest Tuning"
   ]
  },
  {
   "cell_type": "code",
   "execution_count": 31,
   "id": "106509de-2053-497b-abe6-06346f37fac6",
   "metadata": {
    "execution": {
     "iopub.execute_input": "2023-10-14T21:30:26.559648Z",
     "iopub.status.busy": "2023-10-14T21:30:26.559421Z",
     "iopub.status.idle": "2023-10-14T21:30:26.622335Z",
     "shell.execute_reply": "2023-10-14T21:30:26.621800Z",
     "shell.execute_reply.started": "2023-10-14T21:30:26.559624Z"
    }
   },
   "outputs": [
    {
     "data": {
      "application/vnd.jupyter.widget-view+json": {
       "model_id": "7db07b53df054e5d90484500f5c4afcc",
       "version_major": 2,
       "version_minor": 0
      },
      "text/plain": [
       "VBox()"
      ]
     },
     "metadata": {},
     "output_type": "display_data"
    },
    {
     "data": {
      "application/vnd.jupyter.widget-view+json": {
       "model_id": "",
       "version_major": 2,
       "version_minor": 0
      },
      "text/plain": [
       "FloatProgress(value=0.0, bar_style='info', description='Progress:', layout=Layout(height='25px', width='50%'),…"
      ]
     },
     "metadata": {},
     "output_type": "display_data"
    }
   ],
   "source": [
    "rf = RandomForestClassifier()\n",
    "rf_paramGrid = ParamGridBuilder() \\\n",
    "    .addGrid(rf.maxDepth,[10,20])\\\n",
    "    .addGrid(rf.numTrees,[20,30])\\\n",
    "    .build()"
   ]
  },
  {
   "cell_type": "code",
   "execution_count": 32,
   "id": "563749ec-9f11-4a6f-9623-7165e3260de1",
   "metadata": {
    "execution": {
     "iopub.execute_input": "2023-10-14T21:30:42.713797Z",
     "iopub.status.busy": "2023-10-14T21:30:42.713509Z",
     "iopub.status.idle": "2023-10-14T22:01:53.872103Z",
     "shell.execute_reply": "2023-10-14T22:01:53.871504Z",
     "shell.execute_reply.started": "2023-10-14T21:30:42.713767Z"
    },
    "tags": []
   },
   "outputs": [
    {
     "data": {
      "application/vnd.jupyter.widget-view+json": {
       "model_id": "7cc4e7a97abb4d0b94c3947268e2fe5a",
       "version_major": 2,
       "version_minor": 0
      },
      "text/plain": [
       "VBox()"
      ]
     },
     "metadata": {},
     "output_type": "display_data"
    },
    {
     "data": {
      "application/vnd.jupyter.widget-view+json": {
       "model_id": "",
       "version_major": 2,
       "version_minor": 0
      },
      "text/plain": [
       "FloatProgress(value=0.0, bar_style='info', description='Progress:', layout=Layout(height='25px', width='50%'),…"
      ]
     },
     "metadata": {},
     "output_type": "display_data"
    }
   ],
   "source": [
    "rfmodel, rfresults = fit_model(rf, paramGrid = rf_paramGrid)"
   ]
  },
  {
   "cell_type": "code",
   "execution_count": 33,
   "id": "512902aa-e0bf-4089-bc0d-c94f742804a7",
   "metadata": {
    "execution": {
     "iopub.execute_input": "2023-10-14T22:03:46.812071Z",
     "iopub.status.busy": "2023-10-14T22:03:46.811847Z",
     "iopub.status.idle": "2023-10-14T22:03:46.871032Z",
     "shell.execute_reply": "2023-10-14T22:03:46.870493Z",
     "shell.execute_reply.started": "2023-10-14T22:03:46.812046Z"
    }
   },
   "outputs": [
    {
     "data": {
      "application/vnd.jupyter.widget-view+json": {
       "model_id": "d8800df1aaf64dbb84500dcc8f6a1fcb",
       "version_major": 2,
       "version_minor": 0
      },
      "text/plain": [
       "VBox()"
      ]
     },
     "metadata": {},
     "output_type": "display_data"
    },
    {
     "data": {
      "application/vnd.jupyter.widget-view+json": {
       "model_id": "",
       "version_major": 2,
       "version_minor": 0
      },
      "text/plain": [
       "FloatProgress(value=0.0, bar_style='info', description='Progress:', layout=Layout(height='25px', width='50%'),…"
      ]
     },
     "metadata": {},
     "output_type": "display_data"
    },
    {
     "name": "stdout",
     "output_type": "stream",
     "text": [
      "{Param(parent='RandomForestClassifier_8d9332fad231', name='maxDepth', doc='Maximum depth of the tree. (>= 0) E.g., depth 0 means 1 leaf node; depth 1 means 1 internal node + 2 leaf nodes.'): 20, Param(parent='RandomForestClassifier_8d9332fad231', name='numTrees', doc='Number of trees to train (>= 1).'): 30}"
     ]
    }
   ],
   "source": [
    "brf_index = rfmodel.avgMetrics.index(np.max(rfmodel.avgMetrics))\n",
    "brf = rf_paramGrid[brf_index]\n",
    "print(brf)"
   ]
  },
  {
   "cell_type": "code",
   "execution_count": 34,
   "id": "1f87b44e-e513-4fbe-8e05-d97e2b82357d",
   "metadata": {
    "execution": {
     "iopub.execute_input": "2023-10-14T22:03:49.799176Z",
     "iopub.status.busy": "2023-10-14T22:03:49.798939Z",
     "iopub.status.idle": "2023-10-14T22:08:22.548112Z",
     "shell.execute_reply": "2023-10-14T22:08:22.547280Z",
     "shell.execute_reply.started": "2023-10-14T22:03:49.799149Z"
    }
   },
   "outputs": [
    {
     "data": {
      "application/vnd.jupyter.widget-view+json": {
       "model_id": "bc9108e7b6c748e48a698942265a7a9f",
       "version_major": 2,
       "version_minor": 0
      },
      "text/plain": [
       "VBox()"
      ]
     },
     "metadata": {},
     "output_type": "display_data"
    },
    {
     "data": {
      "application/vnd.jupyter.widget-view+json": {
       "model_id": "",
       "version_major": 2,
       "version_minor": 0
      },
      "text/plain": [
       "FloatProgress(value=0.0, bar_style='info', description='Progress:', layout=Layout(height='25px', width='50%'),…"
      ]
     },
     "metadata": {},
     "output_type": "display_data"
    },
    {
     "name": "stdout",
     "output_type": "stream",
     "text": [
      "RandomForest: f1, accuracy,precision,recall (0.88, 0.97, 0.97, 0.87)"
     ]
    }
   ],
   "source": [
    "print(\"RandomForest: f1, accuracy,precision,recall\", val_evaluation(rfresults))"
   ]
  },
  {
   "cell_type": "code",
   "execution_count": 35,
   "id": "385184aa-af06-4b4e-9dac-d07cf71f7da6",
   "metadata": {
    "execution": {
     "iopub.execute_input": "2023-10-14T22:10:51.498263Z",
     "iopub.status.busy": "2023-10-14T22:10:51.498040Z",
     "iopub.status.idle": "2023-10-14T22:10:51.781184Z",
     "shell.execute_reply": "2023-10-14T22:10:51.780607Z",
     "shell.execute_reply.started": "2023-10-14T22:10:51.498238Z"
    }
   },
   "outputs": [
    {
     "data": {
      "application/vnd.jupyter.widget-view+json": {
       "model_id": "aa7a485e5bcb4868a98c6089727a43fe",
       "version_major": 2,
       "version_minor": 0
      },
      "text/plain": [
       "VBox()"
      ]
     },
     "metadata": {},
     "output_type": "display_data"
    },
    {
     "data": {
      "application/vnd.jupyter.widget-view+json": {
       "model_id": "",
       "version_major": 2,
       "version_minor": 0
      },
      "text/plain": [
       "FloatProgress(value=0.0, bar_style='info', description='Progress:', layout=Layout(height='25px', width='50%'),…"
      ]
     },
     "metadata": {},
     "output_type": "display_data"
    }
   ],
   "source": [
    "# Extract feature importance from rfmodel\n",
    "featImportances = np.array(rfmodel.bestModel.stages[-1].featureImportances)"
   ]
  },
  {
   "cell_type": "code",
   "execution_count": 37,
   "id": "d02b59ff-a92d-464f-bd3d-8aa9fa7bbcb9",
   "metadata": {
    "execution": {
     "iopub.execute_input": "2023-10-14T22:11:20.913042Z",
     "iopub.status.busy": "2023-10-14T22:11:20.912813Z",
     "iopub.status.idle": "2023-10-14T22:11:20.974852Z",
     "shell.execute_reply": "2023-10-14T22:11:20.968658Z",
     "shell.execute_reply.started": "2023-10-14T22:11:20.913017Z"
    },
    "tags": []
   },
   "outputs": [
    {
     "data": {
      "application/vnd.jupyter.widget-view+json": {
       "model_id": "eef1b88d4e9547e7a3a11fff55486185",
       "version_major": 2,
       "version_minor": 0
      },
      "text/plain": [
       "VBox()"
      ]
     },
     "metadata": {},
     "output_type": "display_data"
    },
    {
     "data": {
      "application/vnd.jupyter.widget-view+json": {
       "model_id": "",
       "version_major": 2,
       "version_minor": 0
      },
      "text/plain": [
       "FloatProgress(value=0.0, bar_style='info', description='Progress:', layout=Layout(height='25px', width='50%'),…"
      ]
     },
     "metadata": {},
     "output_type": "display_data"
    },
    {
     "name": "stdout",
     "output_type": "stream",
     "text": [
      "['female' 'user_age' 'paid_user' 'downgraded_user' 'total_session'\n",
      " 'interactions' 'thumbs_down' 'length' 'session_gap'] [0.02346042 0.26185797 0.01178645 0.01482874 0.1897405  0.08458735\n",
      " 0.08593863 0.08390108 0.24389885]"
     ]
    }
   ],
   "source": [
    "# Extract feature names from the original data\n",
    "dict_feats = data.schema['NumFeatures'].metadata['ml_attr']['attrs']['numeric']\n",
    "list_feats = np.array([x['name'] for x in dict_feats])\n",
    "print(list_feats,featImportances)"
   ]
  },
  {
   "cell_type": "markdown",
   "id": "084ca217-bf55-49ec-b7ff-9abafc20654c",
   "metadata": {},
   "source": [
    "### Logistic Regression Tuning"
   ]
  },
  {
   "cell_type": "code",
   "execution_count": 41,
   "id": "32b1b855-1a6d-4506-98e3-c81388c728d9",
   "metadata": {
    "execution": {
     "iopub.execute_input": "2023-10-14T22:25:40.961511Z",
     "iopub.status.busy": "2023-10-14T22:25:40.961286Z",
     "iopub.status.idle": "2023-10-14T22:30:11.864490Z",
     "shell.execute_reply": "2023-10-14T22:30:11.863855Z",
     "shell.execute_reply.started": "2023-10-14T22:25:40.961487Z"
    },
    "tags": []
   },
   "outputs": [
    {
     "data": {
      "application/vnd.jupyter.widget-view+json": {
       "model_id": "17411e228f934b89bbc4682531d4ee8f",
       "version_major": 2,
       "version_minor": 0
      },
      "text/plain": [
       "VBox()"
      ]
     },
     "metadata": {},
     "output_type": "display_data"
    },
    {
     "data": {
      "application/vnd.jupyter.widget-view+json": {
       "model_id": "",
       "version_major": 2,
       "version_minor": 0
      },
      "text/plain": [
       "FloatProgress(value=0.0, bar_style='info', description='Progress:', layout=Layout(height='25px', width='50%'),…"
      ]
     },
     "metadata": {},
     "output_type": "display_data"
    }
   ],
   "source": [
    "# With weight col\n",
    "lr_w = LogisticRegression(maxIter=10, weightCol = 'classWeightCol')\n",
    "lrmodel_w, lrresults_w = fit_model(lr_w)\n"
   ]
  },
  {
   "cell_type": "code",
   "execution_count": 42,
   "id": "cc181e9f-a55c-4e47-97e3-a7fceae1fc1d",
   "metadata": {
    "execution": {
     "iopub.execute_input": "2023-10-14T22:30:20.061347Z",
     "iopub.status.busy": "2023-10-14T22:30:20.061124Z",
     "iopub.status.idle": "2023-10-14T22:34:24.758316Z",
     "shell.execute_reply": "2023-10-14T22:34:24.757731Z",
     "shell.execute_reply.started": "2023-10-14T22:30:20.061322Z"
    }
   },
   "outputs": [
    {
     "data": {
      "application/vnd.jupyter.widget-view+json": {
       "model_id": "ba7a795e6c104610bd984c0ded8cbb87",
       "version_major": 2,
       "version_minor": 0
      },
      "text/plain": [
       "VBox()"
      ]
     },
     "metadata": {},
     "output_type": "display_data"
    },
    {
     "data": {
      "application/vnd.jupyter.widget-view+json": {
       "model_id": "",
       "version_major": 2,
       "version_minor": 0
      },
      "text/plain": [
       "FloatProgress(value=0.0, bar_style='info', description='Progress:', layout=Layout(height='25px', width='50%'),…"
      ]
     },
     "metadata": {},
     "output_type": "display_data"
    },
    {
     "name": "stdout",
     "output_type": "stream",
     "text": [
      "LogisticRegression with class weight: f1,accuracy,precision,recall (0.75, 0.74, 0.44, 0.78)"
     ]
    }
   ],
   "source": [
    "print(\"LogisticRegression with class weight: f1,accuracy,precision,recall\", val_evaluation(lrresults_w))"
   ]
  },
  {
   "cell_type": "code",
   "execution_count": 46,
   "id": "97988016-3003-4412-9466-b8a984223e59",
   "metadata": {
    "execution": {
     "iopub.execute_input": "2023-10-14T22:36:29.612278Z",
     "iopub.status.busy": "2023-10-14T22:36:29.612037Z",
     "iopub.status.idle": "2023-10-14T22:36:29.866813Z",
     "shell.execute_reply": "2023-10-14T22:36:29.866210Z",
     "shell.execute_reply.started": "2023-10-14T22:36:29.612249Z"
    },
    "tags": []
   },
   "outputs": [
    {
     "data": {
      "application/vnd.jupyter.widget-view+json": {
       "model_id": "26bbd3fa983b4c5bbe7eaf6712ea10be",
       "version_major": 2,
       "version_minor": 0
      },
      "text/plain": [
       "VBox()"
      ]
     },
     "metadata": {},
     "output_type": "display_data"
    },
    {
     "data": {
      "application/vnd.jupyter.widget-view+json": {
       "model_id": "",
       "version_major": 2,
       "version_minor": 0
      },
      "text/plain": [
       "FloatProgress(value=0.0, bar_style='info', description='Progress:', layout=Layout(height='25px', width='50%'),…"
      ]
     },
     "metadata": {},
     "output_type": "display_data"
    },
    {
     "name": "stdout",
     "output_type": "stream",
     "text": [
      "['female' 'user_age' 'paid_user' 'downgraded_user' 'total_session'\n",
      " 'interactions' 'thumbs_down' 'length' 'session_gap'] [-0.018579235553713488,-0.4952864228478297,0.19108230985204852,-0.055479250750583006,-0.5741988216779174,-0.9857262013678154,0.5285386711079961,0.55382200631948,-1.887944882574658]"
     ]
    }
   ],
   "source": [
    "# Get coefficients\n",
    "lr_corr = lrmodel_w.stages[-1].coefficients\n",
    "print(list_feats, lr_corr)"
   ]
  },
  {
   "cell_type": "markdown",
   "id": "63dde0b1-6051-42bf-8509-30bed449e601",
   "metadata": {},
   "source": [
    "#### Note: \n",
    "\n",
    "Detailed visualizations, exploratory data analysis, and model selection processes are documented in the `sparkify_mini_data_exploration.ipynb` file. This file is focused on processing the full 12GB dataset on AWS EMR and simplifies the data exploration process."
   ]
  }
 ],
 "metadata": {
  "kernelspec": {
   "display_name": "PySpark",
   "language": "",
   "name": "pysparkkernel"
  },
  "language_info": {
   "codemirror_mode": {
    "name": "python",
    "version": 3
   },
   "mimetype": "text/x-python",
   "name": "pyspark",
   "pygments_lexer": "python3"
  }
 },
 "nbformat": 4,
 "nbformat_minor": 5
}
